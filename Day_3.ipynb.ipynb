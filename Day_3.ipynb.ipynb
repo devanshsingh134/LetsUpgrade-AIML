{
 "cells": [
  {
   "cell_type": "markdown",
   "metadata": {},
   "source": [
    "Q-1 Write a program to subtract two complex numbers in Python."
   ]
  },
  {
   "cell_type": "code",
   "execution_count": 1,
   "metadata": {},
   "outputs": [
    {
     "name": "stdout",
     "output_type": "stream",
     "text": [
      "The Subtraction of two coomplex numbers is:  (1+10j)\n"
     ]
    }
   ],
   "source": [
    "a=(4+3j)\n",
    "b=(3-7j)\n",
    "c=a-b\n",
    "print(\"The Subtraction of two complex numbers is: \",c)"
   ]
  },
  {
   "cell_type": "markdown",
   "metadata": {},
   "source": [
    "Q-2 Write a program to find the fourth root of a number.\n"
   ]
  },
  {
   "cell_type": "code",
   "execution_count": 2,
   "metadata": {},
   "outputs": [
    {
     "name": "stdout",
     "output_type": "stream",
     "text": [
      "2.882121417102006\n"
     ]
    }
   ],
   "source": [
    "print(69**(1/4))\n"
   ]
  },
  {
   "cell_type": "markdown",
   "metadata": {},
   "source": [
    "Q-3 Write a program to swap two numbers in Python with the help of a temporary variable."
   ]
  },
  {
   "cell_type": "code",
   "execution_count": 5,
   "metadata": {},
   "outputs": [
    {
     "name": "stdout",
     "output_type": "stream",
     "text": [
      "The value of x is:  20\n",
      "The value of y:  10\n"
     ]
    }
   ],
   "source": [
    "x=10\n",
    "y=20\n",
    "temporary=x\n",
    "x=y\n",
    "y=temporary\n",
    "\n",
    "print(\"The value of x is: \",x)\n",
    "print(\"The value of y: \",y)"
   ]
  },
  {
   "cell_type": "markdown",
   "metadata": {},
   "source": [
    "Q-4 Write a program to swap two numbers in Python without using a temporary variable."
   ]
  },
  {
   "cell_type": "code",
   "execution_count": 6,
   "metadata": {},
   "outputs": [
    {
     "name": "stdout",
     "output_type": "stream",
     "text": [
      "The value of x is:  20\n",
      "The value of y is:  10\n"
     ]
    }
   ],
   "source": [
    "x=10\n",
    "y=20\n",
    "x,y=y,x\n",
    "print(\"The value of x is: \",x)\n",
    "print(\"The value of y is: \",y)"
   ]
  },
  {
   "cell_type": "markdown",
   "metadata": {},
   "source": [
    "Q-5 Write a program to convert Fahrenheit to kelvin and celsius both."
   ]
  },
  {
   "cell_type": "code",
   "execution_count": 23,
   "metadata": {},
   "outputs": [
    {
     "name": "stdout",
     "output_type": "stream",
     "text": [
      "Tempreature in celsius is = 37.77777777777778 \n",
      "Tempreature in kelvin is = 310.9277777777778\n"
     ]
    }
   ],
   "source": [
    "T=100\n",
    "celsius = (T - 32) * (5/9)\n",
    "kelvin = (T + 459.67) * (5/9)\n",
    "print(\"Tempreature in celsius is =\",celsius ,\"\\nTempreature in kelvin is =\",kelvin )"
   ]
  },
  {
   "cell_type": "markdown",
   "metadata": {},
   "source": [
    "Q-6 Write a program to demonstrate all the available data types in Python. Hint: Use type() function."
   ]
  },
  {
   "cell_type": "code",
   "execution_count": 27,
   "metadata": {},
   "outputs": [
    {
     "name": "stdout",
     "output_type": "stream",
     "text": [
      "The data type of 1 is: <class 'int'>\n",
      "The data type of 10.2 is: <class 'float'>\n",
      "The data type of abc is: <class 'str'>\n",
      "The data type of True is: <class 'bool'>\n",
      "The data type of [1, 2, 3] is: <class 'list'>\n",
      "The data type of {1, 2, 3} is: <class 'set'>\n",
      "The data type of (1, 2, 3) is: <class 'tuple'>\n",
      "The data type of {'h': 1, 'i': 2, 'k': 3} is: <class 'dict'>\n"
     ]
    }
   ],
   "source": [
    "a=[1,10.2, \"abc\", True, [1,2,3], {1,2,3}, (1,2,3), {'h':1, 'i':2, 'k':3}]\n",
    "for i in a:\n",
    "    print(f\"The data type of {i} is: {type(i)}\" )"
   ]
  },
  {
   "cell_type": "code",
   "execution_count": null,
   "metadata": {},
   "outputs": [],
   "source": []
  }
 ],
 "metadata": {
  "kernelspec": {
   "display_name": "Python 3",
   "language": "python",
   "name": "python3"
  },
  "language_info": {
   "codemirror_mode": {
    "name": "ipython",
    "version": 3
   },
   "file_extension": ".py",
   "mimetype": "text/x-python",
   "name": "python",
   "nbconvert_exporter": "python",
   "pygments_lexer": "ipython3",
   "version": "3.8.5"
  }
 },
 "nbformat": 4,
 "nbformat_minor": 4
}
