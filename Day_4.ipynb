{
 "cells": [
  {
   "cell_type": "markdown",
   "metadata": {},
   "source": [
    "Q1- Research on whether addition, subtraction, multiplication, division, floor division, and modulo operations\n",
    "be performed on complex numbers. Based on your study, implement a Python program to demonstrate\n",
    "these operations."
   ]
  },
  {
   "cell_type": "code",
   "execution_count": 6,
   "metadata": {},
   "outputs": [
    {
     "name": "stdout",
     "output_type": "stream",
     "text": [
      "(7+10j)\n",
      "(1-4j)\n",
      "(-9+37j)\n",
      "(0.5689655172413794-0.32758620689655177j)\n"
     ]
    }
   ],
   "source": [
    "a=(4+3j)\n",
    "b=(3+7j)\n",
    "add=a+b\n",
    "sub=a-b\n",
    "mul=a*b\n",
    "division=a/b\n",
    "# floor_division=a//b\n",
    "# modulo=a%b\n",
    "\n",
    "print(add)\n",
    "print(sub)\n",
    "print(mul)\n",
    "print(division)\n",
    "# print(floor_division)\n",
    "# print(modulo)\n",
    "\n",
    "# Hence we can't perform floor division and modulo on complex numbers"
   ]
  },
  {
   "cell_type": "markdown",
   "metadata": {},
   "source": [
    "Q2- Research on range() functions and its parameters. Create a markdown cell and write in your own words\n",
    "(no copy-paste from google please) what you understand about it. Implement a small program of your\n",
    "choice on the same."
   ]
  },
  {
   "cell_type": "markdown",
   "metadata": {},
   "source": [
    "# answer\n",
    "Range function generates the integer numbers of a sequences between the given parameters of start and stop integer.\n",
    "it takes three parameters:\n",
    "i) start argument-- this argument is starting number of the sequence, it takes 0 by default.\n",
    "ii)stop argument-- this argument is the end limit of the sequence, this arguments doesn't include this in result.\n",
    "iii)step arguments-- this argument is for step between each number in the sequence, by default it takes 1.\n",
    "\n",
    "for example:"
   ]
  },
  {
   "cell_type": "code",
   "execution_count": 13,
   "metadata": {},
   "outputs": [
    {
     "name": "stdout",
     "output_type": "stream",
     "text": [
      "1 3 5 7 9 11 13 15 17 19 "
     ]
    }
   ],
   "source": [
    "for i in range(1,20,2):\n",
    "    print(i, end=\" \")\n",
    "# it is starting from 1 and stops at 18(because it can't include the argument) and in each number there is a difference of 2."
   ]
  },
  {
   "cell_type": "markdown",
   "metadata": {},
   "source": [
    "Q3- Consider two numbers. Perform their subtraction and if the result of subtraction is greater than 25, print\n",
    "their multiplication result else print their division result."
   ]
  },
  {
   "cell_type": "code",
   "execution_count": 15,
   "metadata": {},
   "outputs": [
    {
     "name": "stdout",
     "output_type": "stream",
     "text": [
      "enter a first number: 100\n",
      "enter a secondn number: 75\n",
      "1.3333333333333333\n"
     ]
    }
   ],
   "source": [
    "a=int(input(\"enter a first number: \"))\n",
    "b=int(input(\"enter a secondn number: \"))\n",
    "c=a-b\n",
    "if c>25:\n",
    "    print(a*b)\n",
    "else:\n",
    "    print(a/b)"
   ]
  },
  {
   "cell_type": "markdown",
   "metadata": {},
   "source": [
    "Q4- Consider a list of 10 elements of integer values. If the number in the list is divisible by 2, print the result as\n",
    "\"square of that number minus 2\"."
   ]
  },
  {
   "cell_type": "code",
   "execution_count": 16,
   "metadata": {},
   "outputs": [
    {
     "name": "stdout",
     "output_type": "stream",
     "text": [
      "2 14 34 62 98 "
     ]
    }
   ],
   "source": [
    "l=[1,2,3,4,5,6,7,8,9,10]\n",
    "for i in l:\n",
    "    if i%2==0:\n",
    "        print(i**2-2, end=\" \")\n",
    "    "
   ]
  },
  {
   "cell_type": "markdown",
   "metadata": {},
   "source": [
    "Q5- Consider a list of 10 elements. Print all the elements in the list which are greater than 7 when that number\n",
    "is divided 2."
   ]
  },
  {
   "cell_type": "code",
   "execution_count": 17,
   "metadata": {},
   "outputs": [
    {
     "name": "stdout",
     "output_type": "stream",
     "text": [
      "12\n",
      "78\n"
     ]
    }
   ],
   "source": [
    "k=[2,4,6,7,9,11,12,15,25,78]\n",
    "for i in k:\n",
    "    if i>=7 and i%2==0:\n",
    "        print(i)"
   ]
  },
  {
   "cell_type": "code",
   "execution_count": null,
   "metadata": {},
   "outputs": [],
   "source": []
  }
 ],
 "metadata": {
  "kernelspec": {
   "display_name": "Python 3",
   "language": "python",
   "name": "python3"
  },
  "language_info": {
   "codemirror_mode": {
    "name": "ipython",
    "version": 3
   },
   "file_extension": ".py",
   "mimetype": "text/x-python",
   "name": "python",
   "nbconvert_exporter": "python",
   "pygments_lexer": "ipython3",
   "version": "3.8.5"
  }
 },
 "nbformat": 4,
 "nbformat_minor": 4
}
