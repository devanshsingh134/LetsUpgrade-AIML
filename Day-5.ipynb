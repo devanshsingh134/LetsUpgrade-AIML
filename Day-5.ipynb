{
 "cells": [
  {
   "cell_type": "markdown",
   "metadata": {},
   "source": [
    "Q1- Write a Python program to find the first 20 non-even prime natural numbers."
   ]
  },
  {
   "cell_type": "code",
   "execution_count": 1,
   "metadata": {},
   "outputs": [
    {
     "name": "stdout",
     "output_type": "stream",
     "text": [
      "[3, 5, 7, 11, 13, 17, 19, 23, 29, 31, 37, 41, 43, 47, 53, 59, 61, 67, 71, 73, 79]\n"
     ]
    }
   ],
   "source": [
    "prime=[]\n",
    "for num in range(1, 100):\n",
    "    if num > 1:\n",
    "        for i in range(2, num):\n",
    "            if (num % i) == 0:\n",
    "                break\n",
    "        else:\n",
    "            if num%2!=0:\n",
    "                prime.append(num)\n",
    "            if len(prime)>20:\n",
    "                break\n",
    "print(prime)"
   ]
  },
  {
   "cell_type": "markdown",
   "metadata": {},
   "source": [
    "Q2- Write a Python program to implement 15 functions of string."
   ]
  },
  {
   "cell_type": "code",
   "execution_count": 2,
   "metadata": {},
   "outputs": [
    {
     "name": "stdout",
     "output_type": "stream",
     "text": [
      "['Hey there! how are you.', 'HEY THERE! HOW ARE YOU.', 'hey there! how are you.', 'Hey There! How Are You.', 15, 15, False, False, 1, ['hey', 'there!', 'how', 'are', 'yOu.'], 'HEY THERE! HOW ARE YoU.', 'hhey there! how are yOu.ohey there! how are yOu.w', b'hey there! how are yOu.', False, 'Hey there! how are you.']\n"
     ]
    }
   ],
   "source": [
    "string=\"hey there! how are yOu.\"\n",
    "\n",
    "functions=[string.capitalize(), string.upper(), string.lower(), string.title(), string.find(\"are\"), string.index(\"are\"), string.isalnum(), string.isspace(), string.count(\"a\"), string.split(\" \"), string.swapcase(), string.join(\"how\"), string.encode(), string.endswith(\" \"), string.capitalize() ]\n",
    "results=[]\n",
    "for i in functions:\n",
    "    results.append(i)\n",
    "print(results)"
   ]
  },
  {
   "cell_type": "markdown",
   "metadata": {},
   "source": [
    "Q3- Write a Python program to check if the given string is a Palindrome or Anagram or None of them. Display\n",
    "the message accordingly to the user."
   ]
  },
  {
   "cell_type": "code",
   "execution_count": 18,
   "metadata": {},
   "outputs": [
    {
     "name": "stdout",
     "output_type": "stream",
     "text": [
      "check if it is palindrome or anagram: gjdd\n",
      "check if it is anagram: uchu\n",
      "None of them\n"
     ]
    }
   ],
   "source": [
    "input1=input(\"check if it is palindrome or anagram: \")\n",
    "\n",
    "\n",
    "if input1==input1[::-1]:\n",
    "    print(\"This is Palindrome\")\n",
    "    \n",
    "else:\n",
    "    input2=input(\"check if it is anagram: \")\n",
    "    if sorted(input1)==sorted(input2):\n",
    "        print(\"This is anagram\")\n",
    "    else:\n",
    "        print(\"None of them\")\n",
    "\n",
    "   \n"
   ]
  },
  {
   "cell_type": "markdown",
   "metadata": {},
   "source": [
    "Q4- Write a Python's user-defined function that removes all the additional characters from the string and\n",
    "convert it finally to lower case using built-in lower(). eg: If the string is \"Dr. Darshan Ingle @AIML Trainer\",\n",
    "then the output be \"drdarshaningleaimltrainer\".\n",
    "   "
   ]
  },
  {
   "cell_type": "code",
   "execution_count": 21,
   "metadata": {},
   "outputs": [
    {
     "name": "stdout",
     "output_type": "stream",
     "text": [
      "drdarshaningleaimltrainer\n"
     ]
    }
   ],
   "source": [
    "test_str=\"Dr. Darshan Ingle @AIML Trainer\"\n",
    "result_str=\"\"\n",
    "\n",
    "for i in test_str:\n",
    "    if i.isalnum():\n",
    "        result_str+=i\n",
    "\n",
    "print(result_str.lower())\n",
    "    "
   ]
  },
  {
   "cell_type": "code",
   "execution_count": null,
   "metadata": {},
   "outputs": [],
   "source": []
  }
 ],
 "metadata": {
  "kernelspec": {
   "display_name": "Python 3",
   "language": "python",
   "name": "python3"
  },
  "language_info": {
   "codemirror_mode": {
    "name": "ipython",
    "version": 3
   },
   "file_extension": ".py",
   "mimetype": "text/x-python",
   "name": "python",
   "nbconvert_exporter": "python",
   "pygments_lexer": "ipython3",
   "version": "3.8.5"
  }
 },
 "nbformat": 4,
 "nbformat_minor": 4
}
