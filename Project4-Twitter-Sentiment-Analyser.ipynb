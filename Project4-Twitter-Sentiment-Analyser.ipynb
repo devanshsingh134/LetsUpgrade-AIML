{
  "nbformat": 4,
  "nbformat_minor": 0,
  "metadata": {
    "accelerator": "GPU",
    "colab": {
      "name": "Project_4_Twitter_Sentiment_Analyser.ipynb",
      "provenance": [],
      "collapsed_sections": []
    },
    "kernelspec": {
      "display_name": "Python 3",
      "name": "python3"
    }
  },
  "cells": [
    {
      "cell_type": "code",
      "metadata": {
        "id": "eaEAJjbSFhSl"
      },
      "source": [
        "# Jovian Commit Essentials\n",
        "# Please retain and execute this cell without modifying the contents for `jovian.commit` to work\n",
        "!pip install jovian --upgrade -q\n",
        "import jovian\n",
        "jovian.set_project('project4')\n",
        "jovian.set_colab_id('14PsNTqoZHWzifyJYWMiKP6sf3GdRWGYp')"
      ],
      "execution_count": null,
      "outputs": []
    },
    {
      "cell_type": "markdown",
      "metadata": {
        "id": "7XbMWGR-e1IF"
      },
      "source": [
        "# ***Project 4 - Twitter Sentiment Analyser***"
      ]
    },
    {
      "cell_type": "code",
      "metadata": {
        "colab": {
          "base_uri": "https://localhost:8080/"
        },
        "id": "zoE2CfE7eVNA",
        "outputId": "a707f390-5799-4afd-fccc-c78bf628a0e2"
      },
      "source": [
        "pip install tweepy"
      ],
      "execution_count": null,
      "outputs": [
        {
          "output_type": "stream",
          "text": [
            "Requirement already satisfied: tweepy in /usr/local/lib/python3.6/dist-packages (3.6.0)\n",
            "Requirement already satisfied: requests>=2.11.1 in /usr/local/lib/python3.6/dist-packages (from tweepy) (2.23.0)\n",
            "Requirement already satisfied: requests-oauthlib>=0.7.0 in /usr/local/lib/python3.6/dist-packages (from tweepy) (1.3.0)\n",
            "Requirement already satisfied: PySocks>=1.5.7 in /usr/local/lib/python3.6/dist-packages (from tweepy) (1.7.1)\n",
            "Requirement already satisfied: six>=1.10.0 in /usr/local/lib/python3.6/dist-packages (from tweepy) (1.15.0)\n",
            "Requirement already satisfied: idna<3,>=2.5 in /usr/local/lib/python3.6/dist-packages (from requests>=2.11.1->tweepy) (2.10)\n",
            "Requirement already satisfied: chardet<4,>=3.0.2 in /usr/local/lib/python3.6/dist-packages (from requests>=2.11.1->tweepy) (3.0.4)\n",
            "Requirement already satisfied: urllib3!=1.25.0,!=1.25.1,<1.26,>=1.21.1 in /usr/local/lib/python3.6/dist-packages (from requests>=2.11.1->tweepy) (1.24.3)\n",
            "Requirement already satisfied: certifi>=2017.4.17 in /usr/local/lib/python3.6/dist-packages (from requests>=2.11.1->tweepy) (2020.12.5)\n",
            "Requirement already satisfied: oauthlib>=3.0.0 in /usr/local/lib/python3.6/dist-packages (from requests-oauthlib>=0.7.0->tweepy) (3.1.0)\n"
          ],
          "name": "stdout"
        }
      ]
    },
    {
      "cell_type": "code",
      "metadata": {
        "colab": {
          "base_uri": "https://localhost:8080/"
        },
        "id": "_nKeUaAffCcN",
        "outputId": "69b4da40-49e7-400c-e65b-0ed73475e83b"
      },
      "source": [
        "pip install openpyxl"
      ],
      "execution_count": null,
      "outputs": [
        {
          "output_type": "stream",
          "text": [
            "Requirement already satisfied: openpyxl in /usr/local/lib/python3.6/dist-packages (2.5.9)\n",
            "Requirement already satisfied: et-xmlfile in /usr/local/lib/python3.6/dist-packages (from openpyxl) (1.0.1)\n",
            "Requirement already satisfied: jdcal in /usr/local/lib/python3.6/dist-packages (from openpyxl) (1.4.1)\n"
          ],
          "name": "stdout"
        }
      ]
    },
    {
      "cell_type": "code",
      "metadata": {
        "id": "IfqJcxmQfcoa"
      },
      "source": [
        "import numpy as np\r\n",
        "import pandas as pd\r\n",
        "import tweepy\r\n",
        "import json\r\n",
        "from tweepy import OAuthHandler"
      ],
      "execution_count": null,
      "outputs": []
    },
    {
      "cell_type": "code",
      "metadata": {
        "id": "4euMhA6Efqbz"
      },
      "source": [
        "consumer_key = \"LzsCOl12ZZ79FObx7BV9a1R3a\"\r\n",
        "consumer_secret = \"gODxZ1kHJHDGgYfyP12AUN37UTlDd6yn3OsSV9Tl0iwu0K0cRY\"\r\n",
        "access_token = \"296102538-kYIK8SULCmRK4vgvYD2DhKbwvSXrgTdTkWh0Nvsp\"\r\n",
        "access_token_secret = \"Ib9obwgcE5tZk4S6tY5rAqI5iXOeJc9FGFg28qHoa4YpP\""
      ],
      "execution_count": null,
      "outputs": []
    },
    {
      "cell_type": "code",
      "metadata": {
        "id": "ZZv0imnCgAXY"
      },
      "source": [
        "auth = tweepy.OAuthHandler( consumer_key , consumer_secret )\r\n",
        "auth.set_access_token( access_token , access_token_secret )\r\n",
        "api = tweepy.API(auth)"
      ],
      "execution_count": null,
      "outputs": []
    },
    {
      "cell_type": "code",
      "metadata": {
        "id": "KkMX4gIegGN2"
      },
      "source": [
        "query = \"corona virus\""
      ],
      "execution_count": null,
      "outputs": []
    },
    {
      "cell_type": "code",
      "metadata": {
        "colab": {
          "base_uri": "https://localhost:8080/"
        },
        "id": "qNKwf9pkgJk4",
        "outputId": "34024666-e48d-4e17-b561-cb029a99b113"
      },
      "source": [
        "Tweets = api.search( query , count=10 , lang='en' , exclude='retweets' , tweet_mode='extended' )\r\n",
        "# tweet_mode='extended'\r\n",
        "# tweet_mode='compat'\r\n",
        "\r\n",
        "for tweet in Tweets:\r\n",
        "    print(tweet,\"\\n\")\r\n",
        "    print(\".....................................\\n\")"
      ],
      "execution_count": null,
      "outputs": [
        {
          "output_type": "stream",
          "text": [
            "Status(_api=<tweepy.api.API object at 0x7faebd623e10>, _json={'created_at': 'Sat Feb 20 13:00:35 +0000 2021', 'id': 1363111307948482560, 'id_str': '1363111307948482560', 'full_text': '@G2Pengu We all know that Corona Virus, Trump, Biden and TSM worked together to cancel the invitational to stop BDS-G2 finals on LAN.', 'truncated': False, 'display_text_range': [9, 133], 'entities': {'hashtags': [], 'symbols': [], 'user_mentions': [{'screen_name': 'G2Pengu', 'name': 'Pengu', 'id': 1428617245, 'id_str': '1428617245', 'indices': [0, 8]}], 'urls': []}, 'metadata': {'iso_language_code': 'en', 'result_type': 'recent'}, 'source': '<a href=\"http://twitter.com/download/android\" rel=\"nofollow\">Twitter for Android</a>', 'in_reply_to_status_id': 1363075770130829312, 'in_reply_to_status_id_str': '1363075770130829312', 'in_reply_to_user_id': 1428617245, 'in_reply_to_user_id_str': '1428617245', 'in_reply_to_screen_name': 'G2Pengu', 'user': {'id': 2748508638, 'id_str': '2748508638', 'name': 'h3nder', 'screen_name': 'h3nder_', 'location': '', 'description': 'Shikamaru stan, Enlightened Wamai main, he/him', 'url': None, 'entities': {'description': {'urls': []}}, 'protected': False, 'followers_count': 25, 'friends_count': 383, 'listed_count': 0, 'created_at': 'Wed Aug 20 08:54:52 +0000 2014', 'favourites_count': 1099, 'utc_offset': None, 'time_zone': None, 'geo_enabled': False, 'verified': False, 'statuses_count': 8007, 'lang': None, 'contributors_enabled': False, 'is_translator': False, 'is_translation_enabled': False, 'profile_background_color': 'C0DEED', 'profile_background_image_url': 'http://abs.twimg.com/images/themes/theme1/bg.png', 'profile_background_image_url_https': 'https://abs.twimg.com/images/themes/theme1/bg.png', 'profile_background_tile': False, 'profile_image_url': 'http://pbs.twimg.com/profile_images/1356988253040218119/s2no4LTy_normal.jpg', 'profile_image_url_https': 'https://pbs.twimg.com/profile_images/1356988253040218119/s2no4LTy_normal.jpg', 'profile_banner_url': 'https://pbs.twimg.com/profile_banners/2748508638/1612366195', 'profile_link_color': '1DA1F2', 'profile_sidebar_border_color': 'C0DEED', 'profile_sidebar_fill_color': 'DDEEF6', 'profile_text_color': '333333', 'profile_use_background_image': True, 'has_extended_profile': True, 'default_profile': True, 'default_profile_image': False, 'following': False, 'follow_request_sent': False, 'notifications': False, 'translator_type': 'none'}, 'geo': None, 'coordinates': None, 'place': None, 'contributors': None, 'is_quote_status': False, 'retweet_count': 0, 'favorite_count': 0, 'favorited': False, 'retweeted': False, 'lang': 'en'}, created_at=datetime.datetime(2021, 2, 20, 13, 0, 35), id=1363111307948482560, id_str='1363111307948482560', full_text='@G2Pengu We all know that Corona Virus, Trump, Biden and TSM worked together to cancel the invitational to stop BDS-G2 finals on LAN.', truncated=False, display_text_range=[9, 133], entities={'hashtags': [], 'symbols': [], 'user_mentions': [{'screen_name': 'G2Pengu', 'name': 'Pengu', 'id': 1428617245, 'id_str': '1428617245', 'indices': [0, 8]}], 'urls': []}, metadata={'iso_language_code': 'en', 'result_type': 'recent'}, source='Twitter for Android', source_url='http://twitter.com/download/android', in_reply_to_status_id=1363075770130829312, in_reply_to_status_id_str='1363075770130829312', in_reply_to_user_id=1428617245, in_reply_to_user_id_str='1428617245', in_reply_to_screen_name='G2Pengu', author=User(_api=<tweepy.api.API object at 0x7faebd623e10>, _json={'id': 2748508638, 'id_str': '2748508638', 'name': 'h3nder', 'screen_name': 'h3nder_', 'location': '', 'description': 'Shikamaru stan, Enlightened Wamai main, he/him', 'url': None, 'entities': {'description': {'urls': []}}, 'protected': False, 'followers_count': 25, 'friends_count': 383, 'listed_count': 0, 'created_at': 'Wed Aug 20 08:54:52 +0000 2014', 'favourites_count': 1099, 'utc_offset': None, 'time_zone': None, 'geo_enabled': False, 'verified': False, 'statuses_count': 8007, 'lang': None, 'contributors_enabled': False, 'is_translator': False, 'is_translation_enabled': False, 'profile_background_color': 'C0DEED', 'profile_background_image_url': 'http://abs.twimg.com/images/themes/theme1/bg.png', 'profile_background_image_url_https': 'https://abs.twimg.com/images/themes/theme1/bg.png', 'profile_background_tile': False, 'profile_image_url': 'http://pbs.twimg.com/profile_images/1356988253040218119/s2no4LTy_normal.jpg', 'profile_image_url_https': 'https://pbs.twimg.com/profile_images/1356988253040218119/s2no4LTy_normal.jpg', 'profile_banner_url': 'https://pbs.twimg.com/profile_banners/2748508638/1612366195', 'profile_link_color': '1DA1F2', 'profile_sidebar_border_color': 'C0DEED', 'profile_sidebar_fill_color': 'DDEEF6', 'profile_text_color': '333333', 'profile_use_background_image': True, 'has_extended_profile': True, 'default_profile': True, 'default_profile_image': False, 'following': False, 'follow_request_sent': False, 'notifications': False, 'translator_type': 'none'}, id=2748508638, id_str='2748508638', name='h3nder', screen_name='h3nder_', location='', description='Shikamaru stan, Enlightened Wamai main, he/him', url=None, entities={'description': {'urls': []}}, protected=False, followers_count=25, friends_count=383, listed_count=0, created_at=datetime.datetime(2014, 8, 20, 8, 54, 52), favourites_count=1099, utc_offset=None, time_zone=None, geo_enabled=False, verified=False, statuses_count=8007, lang=None, contributors_enabled=False, is_translator=False, is_translation_enabled=False, profile_background_color='C0DEED', profile_background_image_url='http://abs.twimg.com/images/themes/theme1/bg.png', profile_background_image_url_https='https://abs.twimg.com/images/themes/theme1/bg.png', profile_background_tile=False, profile_image_url='http://pbs.twimg.com/profile_images/1356988253040218119/s2no4LTy_normal.jpg', profile_image_url_https='https://pbs.twimg.com/profile_images/1356988253040218119/s2no4LTy_normal.jpg', profile_banner_url='https://pbs.twimg.com/profile_banners/2748508638/1612366195', profile_link_color='1DA1F2', profile_sidebar_border_color='C0DEED', profile_sidebar_fill_color='DDEEF6', profile_text_color='333333', profile_use_background_image=True, has_extended_profile=True, default_profile=True, default_profile_image=False, following=False, follow_request_sent=False, notifications=False, translator_type='none'), user=User(_api=<tweepy.api.API object at 0x7faebd623e10>, _json={'id': 2748508638, 'id_str': '2748508638', 'name': 'h3nder', 'screen_name': 'h3nder_', 'location': '', 'description': 'Shikamaru stan, Enlightened Wamai main, he/him', 'url': None, 'entities': {'description': {'urls': []}}, 'protected': False, 'followers_count': 25, 'friends_count': 383, 'listed_count': 0, 'created_at': 'Wed Aug 20 08:54:52 +0000 2014', 'favourites_count': 1099, 'utc_offset': None, 'time_zone': None, 'geo_enabled': False, 'verified': False, 'statuses_count': 8007, 'lang': None, 'contributors_enabled': False, 'is_translator': False, 'is_translation_enabled': False, 'profile_background_color': 'C0DEED', 'profile_background_image_url': 'http://abs.twimg.com/images/themes/theme1/bg.png', 'profile_background_image_url_https': 'https://abs.twimg.com/images/themes/theme1/bg.png', 'profile_background_tile': False, 'profile_image_url': 'http://pbs.twimg.com/profile_images/1356988253040218119/s2no4LTy_normal.jpg', 'profile_image_url_https': 'https://pbs.twimg.com/profile_images/1356988253040218119/s2no4LTy_normal.jpg', 'profile_banner_url': 'https://pbs.twimg.com/profile_banners/2748508638/1612366195', 'profile_link_color': '1DA1F2', 'profile_sidebar_border_color': 'C0DEED', 'profile_sidebar_fill_color': 'DDEEF6', 'profile_text_color': '333333', 'profile_use_background_image': True, 'has_extended_profile': True, 'default_profile': True, 'default_profile_image': False, 'following': False, 'follow_request_sent': False, 'notifications': False, 'translator_type': 'none'}, id=2748508638, id_str='2748508638', name='h3nder', screen_name='h3nder_', location='', description='Shikamaru stan, Enlightened Wamai main, he/him', url=None, entities={'description': {'urls': []}}, protected=False, followers_count=25, friends_count=383, listed_count=0, created_at=datetime.datetime(2014, 8, 20, 8, 54, 52), favourites_count=1099, utc_offset=None, time_zone=None, geo_enabled=False, verified=False, statuses_count=8007, lang=None, contributors_enabled=False, is_translator=False, is_translation_enabled=False, profile_background_color='C0DEED', profile_background_image_url='http://abs.twimg.com/images/themes/theme1/bg.png', profile_background_image_url_https='https://abs.twimg.com/images/themes/theme1/bg.png', profile_background_tile=False, profile_image_url='http://pbs.twimg.com/profile_images/1356988253040218119/s2no4LTy_normal.jpg', profile_image_url_https='https://pbs.twimg.com/profile_images/1356988253040218119/s2no4LTy_normal.jpg', profile_banner_url='https://pbs.twimg.com/profile_banners/2748508638/1612366195', profile_link_color='1DA1F2', profile_sidebar_border_color='C0DEED', profile_sidebar_fill_color='DDEEF6', profile_text_color='333333', profile_use_background_image=True, has_extended_profile=True, default_profile=True, default_profile_image=False, following=False, follow_request_sent=False, notifications=False, translator_type='none'), geo=None, coordinates=None, place=None, contributors=None, is_quote_status=False, retweet_count=0, favorite_count=0, favorited=False, retweeted=False, lang='en') \n",
            "\n",
            ".....................................\n",
            "\n",
            "Status(_api=<tweepy.api.API object at 0x7faebd623e10>, _json={'created_at': 'Sat Feb 20 13:00:25 +0000 2021', 'id': 1363111265980338178, 'id_str': '1363111265980338178', 'full_text': '@GregClinker @NHSActivistRN The needed percentage depends a lot on\\n1. the efficacy of the vaccines used.\\n2. how easy the virus spreads (e.g. the original vs the B.1.1.7 UK corona variant)\\n\\nE.G. measles - being very contagious - needs a vaccine with a very high coverage =  ppl share vaccinated x efficacy.', 'truncated': False, 'display_text_range': [28, 305], 'entities': {'hashtags': [], 'symbols': [], 'user_mentions': [{'screen_name': 'GregClinker', 'name': 'Greg Clinker', 'id': 3432595179, 'id_str': '3432595179', 'indices': [0, 12]}, {'screen_name': 'NHSActivistRN', 'name': 'NHSActivistRN #nhspay15 #nhsblueheart 💙', 'id': 1288556192185319424, 'id_str': '1288556192185319424', 'indices': [13, 27]}], 'urls': []}, 'metadata': {'iso_language_code': 'en', 'result_type': 'recent'}, 'source': '<a href=\"https://mobile.twitter.com\" rel=\"nofollow\">Twitter Web App</a>', 'in_reply_to_status_id': 1363107758501945345, 'in_reply_to_status_id_str': '1363107758501945345', 'in_reply_to_user_id': 3432595179, 'in_reply_to_user_id_str': '3432595179', 'in_reply_to_screen_name': 'GregClinker', 'user': {'id': 4893221596, 'id_str': '4893221596', 'name': 'Lars F. Jensen', 'screen_name': 'LarsFJ1', 'location': 'Danmark', 'description': '', 'url': None, 'entities': {'description': {'urls': []}}, 'protected': False, 'followers_count': 1074, 'friends_count': 1771, 'listed_count': 15, 'created_at': 'Tue Feb 09 21:40:36 +0000 2016', 'favourites_count': 109247, 'utc_offset': None, 'time_zone': None, 'geo_enabled': False, 'verified': False, 'statuses_count': 25583, 'lang': None, 'contributors_enabled': False, 'is_translator': False, 'is_translation_enabled': False, 'profile_background_color': '000000', 'profile_background_image_url': 'http://abs.twimg.com/images/themes/theme1/bg.png', 'profile_background_image_url_https': 'https://abs.twimg.com/images/themes/theme1/bg.png', 'profile_background_tile': False, 'profile_image_url': 'http://pbs.twimg.com/profile_images/915292978528350208/CAX15OpZ_normal.jpg', 'profile_image_url_https': 'https://pbs.twimg.com/profile_images/915292978528350208/CAX15OpZ_normal.jpg', 'profile_link_color': '1B95E0', 'profile_sidebar_border_color': '000000', 'profile_sidebar_fill_color': '000000', 'profile_text_color': '000000', 'profile_use_background_image': False, 'has_extended_profile': False, 'default_profile': False, 'default_profile_image': False, 'following': False, 'follow_request_sent': False, 'notifications': False, 'translator_type': 'none'}, 'geo': None, 'coordinates': None, 'place': None, 'contributors': None, 'is_quote_status': False, 'retweet_count': 0, 'favorite_count': 0, 'favorited': False, 'retweeted': False, 'lang': 'en'}, created_at=datetime.datetime(2021, 2, 20, 13, 0, 25), id=1363111265980338178, id_str='1363111265980338178', full_text='@GregClinker @NHSActivistRN The needed percentage depends a lot on\\n1. the efficacy of the vaccines used.\\n2. how easy the virus spreads (e.g. the original vs the B.1.1.7 UK corona variant)\\n\\nE.G. measles - being very contagious - needs a vaccine with a very high coverage =  ppl share vaccinated x efficacy.', truncated=False, display_text_range=[28, 305], entities={'hashtags': [], 'symbols': [], 'user_mentions': [{'screen_name': 'GregClinker', 'name': 'Greg Clinker', 'id': 3432595179, 'id_str': '3432595179', 'indices': [0, 12]}, {'screen_name': 'NHSActivistRN', 'name': 'NHSActivistRN #nhspay15 #nhsblueheart 💙', 'id': 1288556192185319424, 'id_str': '1288556192185319424', 'indices': [13, 27]}], 'urls': []}, metadata={'iso_language_code': 'en', 'result_type': 'recent'}, source='Twitter Web App', source_url='https://mobile.twitter.com', in_reply_to_status_id=1363107758501945345, in_reply_to_status_id_str='1363107758501945345', in_reply_to_user_id=3432595179, in_reply_to_user_id_str='3432595179', in_reply_to_screen_name='GregClinker', author=User(_api=<tweepy.api.API object at 0x7faebd623e10>, _json={'id': 4893221596, 'id_str': '4893221596', 'name': 'Lars F. Jensen', 'screen_name': 'LarsFJ1', 'location': 'Danmark', 'description': '', 'url': None, 'entities': {'description': {'urls': []}}, 'protected': False, 'followers_count': 1074, 'friends_count': 1771, 'listed_count': 15, 'created_at': 'Tue Feb 09 21:40:36 +0000 2016', 'favourites_count': 109247, 'utc_offset': None, 'time_zone': None, 'geo_enabled': False, 'verified': False, 'statuses_count': 25583, 'lang': None, 'contributors_enabled': False, 'is_translator': False, 'is_translation_enabled': False, 'profile_background_color': '000000', 'profile_background_image_url': 'http://abs.twimg.com/images/themes/theme1/bg.png', 'profile_background_image_url_https': 'https://abs.twimg.com/images/themes/theme1/bg.png', 'profile_background_tile': False, 'profile_image_url': 'http://pbs.twimg.com/profile_images/915292978528350208/CAX15OpZ_normal.jpg', 'profile_image_url_https': 'https://pbs.twimg.com/profile_images/915292978528350208/CAX15OpZ_normal.jpg', 'profile_link_color': '1B95E0', 'profile_sidebar_border_color': '000000', 'profile_sidebar_fill_color': '000000', 'profile_text_color': '000000', 'profile_use_background_image': False, 'has_extended_profile': False, 'default_profile': False, 'default_profile_image': False, 'following': False, 'follow_request_sent': False, 'notifications': False, 'translator_type': 'none'}, id=4893221596, id_str='4893221596', name='Lars F. Jensen', screen_name='LarsFJ1', location='Danmark', description='', url=None, entities={'description': {'urls': []}}, protected=False, followers_count=1074, friends_count=1771, listed_count=15, created_at=datetime.datetime(2016, 2, 9, 21, 40, 36), favourites_count=109247, utc_offset=None, time_zone=None, geo_enabled=False, verified=False, statuses_count=25583, lang=None, contributors_enabled=False, is_translator=False, is_translation_enabled=False, profile_background_color='000000', profile_background_image_url='http://abs.twimg.com/images/themes/theme1/bg.png', profile_background_image_url_https='https://abs.twimg.com/images/themes/theme1/bg.png', profile_background_tile=False, profile_image_url='http://pbs.twimg.com/profile_images/915292978528350208/CAX15OpZ_normal.jpg', profile_image_url_https='https://pbs.twimg.com/profile_images/915292978528350208/CAX15OpZ_normal.jpg', profile_link_color='1B95E0', profile_sidebar_border_color='000000', profile_sidebar_fill_color='000000', profile_text_color='000000', profile_use_background_image=False, has_extended_profile=False, default_profile=False, default_profile_image=False, following=False, follow_request_sent=False, notifications=False, translator_type='none'), user=User(_api=<tweepy.api.API object at 0x7faebd623e10>, _json={'id': 4893221596, 'id_str': '4893221596', 'name': 'Lars F. Jensen', 'screen_name': 'LarsFJ1', 'location': 'Danmark', 'description': '', 'url': None, 'entities': {'description': {'urls': []}}, 'protected': False, 'followers_count': 1074, 'friends_count': 1771, 'listed_count': 15, 'created_at': 'Tue Feb 09 21:40:36 +0000 2016', 'favourites_count': 109247, 'utc_offset': None, 'time_zone': None, 'geo_enabled': False, 'verified': False, 'statuses_count': 25583, 'lang': None, 'contributors_enabled': False, 'is_translator': False, 'is_translation_enabled': False, 'profile_background_color': '000000', 'profile_background_image_url': 'http://abs.twimg.com/images/themes/theme1/bg.png', 'profile_background_image_url_https': 'https://abs.twimg.com/images/themes/theme1/bg.png', 'profile_background_tile': False, 'profile_image_url': 'http://pbs.twimg.com/profile_images/915292978528350208/CAX15OpZ_normal.jpg', 'profile_image_url_https': 'https://pbs.twimg.com/profile_images/915292978528350208/CAX15OpZ_normal.jpg', 'profile_link_color': '1B95E0', 'profile_sidebar_border_color': '000000', 'profile_sidebar_fill_color': '000000', 'profile_text_color': '000000', 'profile_use_background_image': False, 'has_extended_profile': False, 'default_profile': False, 'default_profile_image': False, 'following': False, 'follow_request_sent': False, 'notifications': False, 'translator_type': 'none'}, id=4893221596, id_str='4893221596', name='Lars F. Jensen', screen_name='LarsFJ1', location='Danmark', description='', url=None, entities={'description': {'urls': []}}, protected=False, followers_count=1074, friends_count=1771, listed_count=15, created_at=datetime.datetime(2016, 2, 9, 21, 40, 36), favourites_count=109247, utc_offset=None, time_zone=None, geo_enabled=False, verified=False, statuses_count=25583, lang=None, contributors_enabled=False, is_translator=False, is_translation_enabled=False, profile_background_color='000000', profile_background_image_url='http://abs.twimg.com/images/themes/theme1/bg.png', profile_background_image_url_https='https://abs.twimg.com/images/themes/theme1/bg.png', profile_background_tile=False, profile_image_url='http://pbs.twimg.com/profile_images/915292978528350208/CAX15OpZ_normal.jpg', profile_image_url_https='https://pbs.twimg.com/profile_images/915292978528350208/CAX15OpZ_normal.jpg', profile_link_color='1B95E0', profile_sidebar_border_color='000000', profile_sidebar_fill_color='000000', profile_text_color='000000', profile_use_background_image=False, has_extended_profile=False, default_profile=False, default_profile_image=False, following=False, follow_request_sent=False, notifications=False, translator_type='none'), geo=None, coordinates=None, place=None, contributors=None, is_quote_status=False, retweet_count=0, favorite_count=0, favorited=False, retweeted=False, lang='en') \n",
            "\n",
            ".....................................\n",
            "\n",
            "Status(_api=<tweepy.api.API object at 0x7faebd623e10>, _json={'created_at': 'Sat Feb 20 13:00:02 +0000 2021', 'id': 1363111166298509325, 'id_str': '1363111166298509325', 'full_text': 'Current Conditions for #Sayre PA\\nTemp: 21.6F\\nWind Chill: 21.6F\\nHumidity: 84%\\nDew Point: 17.4F \\nBarometer: 30.243 inHg\\nWind: 2 mph from the NW\\nCorona Virus Weekly Stats:\\nCases: 66.000000\\nDeaths: 1.000000\\nSurvival: 98.000000\\n#weewx #nepa #bradfordcounty', 'truncated': False, 'display_text_range': [0, 251], 'entities': {'hashtags': [{'text': 'Sayre', 'indices': [23, 29]}, {'text': 'weewx', 'indices': [223, 229]}, {'text': 'nepa', 'indices': [230, 235]}, {'text': 'bradfordcounty', 'indices': [236, 251]}], 'symbols': [], 'user_mentions': [], 'urls': []}, 'metadata': {'iso_language_code': 'en', 'result_type': 'recent'}, 'source': '<a href=\"https://bcweather.org\" rel=\"nofollow\">bcweather.org</a>', 'in_reply_to_status_id': None, 'in_reply_to_status_id_str': None, 'in_reply_to_user_id': None, 'in_reply_to_user_id_str': None, 'in_reply_to_screen_name': None, 'user': {'id': 1086281855782014976, 'id_str': '1086281855782014976', 'name': 'Bradford County Weather', 'screen_name': 'CountyBradford', 'location': 'Sayre, PA', 'description': '', 'url': 'https://t.co/DxPC1tbroU', 'entities': {'url': {'urls': [{'url': 'https://t.co/DxPC1tbroU', 'expanded_url': 'https://bcweather.org', 'display_url': 'bcweather.org', 'indices': [0, 23]}]}, 'description': {'urls': []}}, 'protected': False, 'followers_count': 4, 'friends_count': 0, 'listed_count': 0, 'created_at': 'Fri Jan 18 15:19:11 +0000 2019', 'favourites_count': 0, 'utc_offset': None, 'time_zone': None, 'geo_enabled': True, 'verified': False, 'statuses_count': 12196, 'lang': None, 'contributors_enabled': False, 'is_translator': False, 'is_translation_enabled': False, 'profile_background_color': '000000', 'profile_background_image_url': 'http://abs.twimg.com/images/themes/theme1/bg.png', 'profile_background_image_url_https': 'https://abs.twimg.com/images/themes/theme1/bg.png', 'profile_background_tile': False, 'profile_image_url': 'http://pbs.twimg.com/profile_images/1086282722555904000/DIep8frt_normal.jpg', 'profile_image_url_https': 'https://pbs.twimg.com/profile_images/1086282722555904000/DIep8frt_normal.jpg', 'profile_banner_url': 'https://pbs.twimg.com/profile_banners/1086281855782014976/1547861950', 'profile_link_color': '1B95E0', 'profile_sidebar_border_color': '000000', 'profile_sidebar_fill_color': '000000', 'profile_text_color': '000000', 'profile_use_background_image': False, 'has_extended_profile': True, 'default_profile': False, 'default_profile_image': False, 'following': False, 'follow_request_sent': False, 'notifications': False, 'translator_type': 'none'}, 'geo': None, 'coordinates': None, 'place': None, 'contributors': None, 'is_quote_status': False, 'retweet_count': 0, 'favorite_count': 0, 'favorited': False, 'retweeted': False, 'lang': 'en'}, created_at=datetime.datetime(2021, 2, 20, 13, 0, 2), id=1363111166298509325, id_str='1363111166298509325', full_text='Current Conditions for #Sayre PA\\nTemp: 21.6F\\nWind Chill: 21.6F\\nHumidity: 84%\\nDew Point: 17.4F \\nBarometer: 30.243 inHg\\nWind: 2 mph from the NW\\nCorona Virus Weekly Stats:\\nCases: 66.000000\\nDeaths: 1.000000\\nSurvival: 98.000000\\n#weewx #nepa #bradfordcounty', truncated=False, display_text_range=[0, 251], entities={'hashtags': [{'text': 'Sayre', 'indices': [23, 29]}, {'text': 'weewx', 'indices': [223, 229]}, {'text': 'nepa', 'indices': [230, 235]}, {'text': 'bradfordcounty', 'indices': [236, 251]}], 'symbols': [], 'user_mentions': [], 'urls': []}, metadata={'iso_language_code': 'en', 'result_type': 'recent'}, source='bcweather.org', source_url='https://bcweather.org', in_reply_to_status_id=None, in_reply_to_status_id_str=None, in_reply_to_user_id=None, in_reply_to_user_id_str=None, in_reply_to_screen_name=None, author=User(_api=<tweepy.api.API object at 0x7faebd623e10>, _json={'id': 1086281855782014976, 'id_str': '1086281855782014976', 'name': 'Bradford County Weather', 'screen_name': 'CountyBradford', 'location': 'Sayre, PA', 'description': '', 'url': 'https://t.co/DxPC1tbroU', 'entities': {'url': {'urls': [{'url': 'https://t.co/DxPC1tbroU', 'expanded_url': 'https://bcweather.org', 'display_url': 'bcweather.org', 'indices': [0, 23]}]}, 'description': {'urls': []}}, 'protected': False, 'followers_count': 4, 'friends_count': 0, 'listed_count': 0, 'created_at': 'Fri Jan 18 15:19:11 +0000 2019', 'favourites_count': 0, 'utc_offset': None, 'time_zone': None, 'geo_enabled': True, 'verified': False, 'statuses_count': 12196, 'lang': None, 'contributors_enabled': False, 'is_translator': False, 'is_translation_enabled': False, 'profile_background_color': '000000', 'profile_background_image_url': 'http://abs.twimg.com/images/themes/theme1/bg.png', 'profile_background_image_url_https': 'https://abs.twimg.com/images/themes/theme1/bg.png', 'profile_background_tile': False, 'profile_image_url': 'http://pbs.twimg.com/profile_images/1086282722555904000/DIep8frt_normal.jpg', 'profile_image_url_https': 'https://pbs.twimg.com/profile_images/1086282722555904000/DIep8frt_normal.jpg', 'profile_banner_url': 'https://pbs.twimg.com/profile_banners/1086281855782014976/1547861950', 'profile_link_color': '1B95E0', 'profile_sidebar_border_color': '000000', 'profile_sidebar_fill_color': '000000', 'profile_text_color': '000000', 'profile_use_background_image': False, 'has_extended_profile': True, 'default_profile': False, 'default_profile_image': False, 'following': False, 'follow_request_sent': False, 'notifications': False, 'translator_type': 'none'}, id=1086281855782014976, id_str='1086281855782014976', name='Bradford County Weather', screen_name='CountyBradford', location='Sayre, PA', description='', url='https://t.co/DxPC1tbroU', entities={'url': {'urls': [{'url': 'https://t.co/DxPC1tbroU', 'expanded_url': 'https://bcweather.org', 'display_url': 'bcweather.org', 'indices': [0, 23]}]}, 'description': {'urls': []}}, protected=False, followers_count=4, friends_count=0, listed_count=0, created_at=datetime.datetime(2019, 1, 18, 15, 19, 11), favourites_count=0, utc_offset=None, time_zone=None, geo_enabled=True, verified=False, statuses_count=12196, lang=None, contributors_enabled=False, is_translator=False, is_translation_enabled=False, profile_background_color='000000', profile_background_image_url='http://abs.twimg.com/images/themes/theme1/bg.png', profile_background_image_url_https='https://abs.twimg.com/images/themes/theme1/bg.png', profile_background_tile=False, profile_image_url='http://pbs.twimg.com/profile_images/1086282722555904000/DIep8frt_normal.jpg', profile_image_url_https='https://pbs.twimg.com/profile_images/1086282722555904000/DIep8frt_normal.jpg', profile_banner_url='https://pbs.twimg.com/profile_banners/1086281855782014976/1547861950', profile_link_color='1B95E0', profile_sidebar_border_color='000000', profile_sidebar_fill_color='000000', profile_text_color='000000', profile_use_background_image=False, has_extended_profile=True, default_profile=False, default_profile_image=False, following=False, follow_request_sent=False, notifications=False, translator_type='none'), user=User(_api=<tweepy.api.API object at 0x7faebd623e10>, _json={'id': 1086281855782014976, 'id_str': '1086281855782014976', 'name': 'Bradford County Weather', 'screen_name': 'CountyBradford', 'location': 'Sayre, PA', 'description': '', 'url': 'https://t.co/DxPC1tbroU', 'entities': {'url': {'urls': [{'url': 'https://t.co/DxPC1tbroU', 'expanded_url': 'https://bcweather.org', 'display_url': 'bcweather.org', 'indices': [0, 23]}]}, 'description': {'urls': []}}, 'protected': False, 'followers_count': 4, 'friends_count': 0, 'listed_count': 0, 'created_at': 'Fri Jan 18 15:19:11 +0000 2019', 'favourites_count': 0, 'utc_offset': None, 'time_zone': None, 'geo_enabled': True, 'verified': False, 'statuses_count': 12196, 'lang': None, 'contributors_enabled': False, 'is_translator': False, 'is_translation_enabled': False, 'profile_background_color': '000000', 'profile_background_image_url': 'http://abs.twimg.com/images/themes/theme1/bg.png', 'profile_background_image_url_https': 'https://abs.twimg.com/images/themes/theme1/bg.png', 'profile_background_tile': False, 'profile_image_url': 'http://pbs.twimg.com/profile_images/1086282722555904000/DIep8frt_normal.jpg', 'profile_image_url_https': 'https://pbs.twimg.com/profile_images/1086282722555904000/DIep8frt_normal.jpg', 'profile_banner_url': 'https://pbs.twimg.com/profile_banners/1086281855782014976/1547861950', 'profile_link_color': '1B95E0', 'profile_sidebar_border_color': '000000', 'profile_sidebar_fill_color': '000000', 'profile_text_color': '000000', 'profile_use_background_image': False, 'has_extended_profile': True, 'default_profile': False, 'default_profile_image': False, 'following': False, 'follow_request_sent': False, 'notifications': False, 'translator_type': 'none'}, id=1086281855782014976, id_str='1086281855782014976', name='Bradford County Weather', screen_name='CountyBradford', location='Sayre, PA', description='', url='https://t.co/DxPC1tbroU', entities={'url': {'urls': [{'url': 'https://t.co/DxPC1tbroU', 'expanded_url': 'https://bcweather.org', 'display_url': 'bcweather.org', 'indices': [0, 23]}]}, 'description': {'urls': []}}, protected=False, followers_count=4, friends_count=0, listed_count=0, created_at=datetime.datetime(2019, 1, 18, 15, 19, 11), favourites_count=0, utc_offset=None, time_zone=None, geo_enabled=True, verified=False, statuses_count=12196, lang=None, contributors_enabled=False, is_translator=False, is_translation_enabled=False, profile_background_color='000000', profile_background_image_url='http://abs.twimg.com/images/themes/theme1/bg.png', profile_background_image_url_https='https://abs.twimg.com/images/themes/theme1/bg.png', profile_background_tile=False, profile_image_url='http://pbs.twimg.com/profile_images/1086282722555904000/DIep8frt_normal.jpg', profile_image_url_https='https://pbs.twimg.com/profile_images/1086282722555904000/DIep8frt_normal.jpg', profile_banner_url='https://pbs.twimg.com/profile_banners/1086281855782014976/1547861950', profile_link_color='1B95E0', profile_sidebar_border_color='000000', profile_sidebar_fill_color='000000', profile_text_color='000000', profile_use_background_image=False, has_extended_profile=True, default_profile=False, default_profile_image=False, following=False, follow_request_sent=False, notifications=False, translator_type='none'), geo=None, coordinates=None, place=None, contributors=None, is_quote_status=False, retweet_count=0, favorite_count=0, favorited=False, retweeted=False, lang='en') \n",
            "\n",
            ".....................................\n",
            "\n",
            "Status(_api=<tweepy.api.API object at 0x7faebd623e10>, _json={'created_at': 'Sat Feb 20 12:58:39 +0000 2021', 'id': 1363110821270806528, 'id_str': '1363110821270806528', 'full_text': \"@Akshays1234 @AJEnglish We all know the virus come from the nature, and the first patient of corona is discovered in Europe Dez. 2019. Corona is alreast spread in the world  before Chinese government report the first patient. How could you prove that's Xinjinping ambition to conquer the world.\", 'truncated': False, 'display_text_range': [24, 294], 'entities': {'hashtags': [], 'symbols': [], 'user_mentions': [{'screen_name': 'Akshays1234', 'name': 'President', 'id': 3723469814, 'id_str': '3723469814', 'indices': [0, 12]}, {'screen_name': 'AJEnglish', 'name': 'Al Jazeera English', 'id': 4970411, 'id_str': '4970411', 'indices': [13, 23]}], 'urls': []}, 'metadata': {'iso_language_code': 'en', 'result_type': 'recent'}, 'source': '<a href=\"http://twitter.com/download/android\" rel=\"nofollow\">Twitter for Android</a>', 'in_reply_to_status_id': 1363100227490648067, 'in_reply_to_status_id_str': '1363100227490648067', 'in_reply_to_user_id': 3723469814, 'in_reply_to_user_id_str': '3723469814', 'in_reply_to_screen_name': 'Akshays1234', 'user': {'id': 1249488110582292480, 'id_str': '1249488110582292480', 'name': '帅就完事了', 'screen_name': 'QkTOpp33FCsKBMB', 'location': '', 'description': '吃鸡爱好者', 'url': None, 'entities': {'description': {'urls': []}}, 'protected': False, 'followers_count': 0, 'friends_count': 7, 'listed_count': 0, 'created_at': 'Mon Apr 13 00:02:45 +0000 2020', 'favourites_count': 15, 'utc_offset': None, 'time_zone': None, 'geo_enabled': False, 'verified': False, 'statuses_count': 9, 'lang': None, 'contributors_enabled': False, 'is_translator': False, 'is_translation_enabled': False, 'profile_background_color': 'F5F8FA', 'profile_background_image_url': None, 'profile_background_image_url_https': None, 'profile_background_tile': False, 'profile_image_url': 'http://pbs.twimg.com/profile_images/1249488346319110147/Dwb9ISA__normal.jpg', 'profile_image_url_https': 'https://pbs.twimg.com/profile_images/1249488346319110147/Dwb9ISA__normal.jpg', 'profile_link_color': '1DA1F2', 'profile_sidebar_border_color': 'C0DEED', 'profile_sidebar_fill_color': 'DDEEF6', 'profile_text_color': '333333', 'profile_use_background_image': True, 'has_extended_profile': False, 'default_profile': True, 'default_profile_image': False, 'following': False, 'follow_request_sent': False, 'notifications': False, 'translator_type': 'none'}, 'geo': None, 'coordinates': None, 'place': None, 'contributors': None, 'is_quote_status': False, 'retweet_count': 0, 'favorite_count': 0, 'favorited': False, 'retweeted': False, 'lang': 'en'}, created_at=datetime.datetime(2021, 2, 20, 12, 58, 39), id=1363110821270806528, id_str='1363110821270806528', full_text=\"@Akshays1234 @AJEnglish We all know the virus come from the nature, and the first patient of corona is discovered in Europe Dez. 2019. Corona is alreast spread in the world  before Chinese government report the first patient. How could you prove that's Xinjinping ambition to conquer the world.\", truncated=False, display_text_range=[24, 294], entities={'hashtags': [], 'symbols': [], 'user_mentions': [{'screen_name': 'Akshays1234', 'name': 'President', 'id': 3723469814, 'id_str': '3723469814', 'indices': [0, 12]}, {'screen_name': 'AJEnglish', 'name': 'Al Jazeera English', 'id': 4970411, 'id_str': '4970411', 'indices': [13, 23]}], 'urls': []}, metadata={'iso_language_code': 'en', 'result_type': 'recent'}, source='Twitter for Android', source_url='http://twitter.com/download/android', in_reply_to_status_id=1363100227490648067, in_reply_to_status_id_str='1363100227490648067', in_reply_to_user_id=3723469814, in_reply_to_user_id_str='3723469814', in_reply_to_screen_name='Akshays1234', author=User(_api=<tweepy.api.API object at 0x7faebd623e10>, _json={'id': 1249488110582292480, 'id_str': '1249488110582292480', 'name': '帅就完事了', 'screen_name': 'QkTOpp33FCsKBMB', 'location': '', 'description': '吃鸡爱好者', 'url': None, 'entities': {'description': {'urls': []}}, 'protected': False, 'followers_count': 0, 'friends_count': 7, 'listed_count': 0, 'created_at': 'Mon Apr 13 00:02:45 +0000 2020', 'favourites_count': 15, 'utc_offset': None, 'time_zone': None, 'geo_enabled': False, 'verified': False, 'statuses_count': 9, 'lang': None, 'contributors_enabled': False, 'is_translator': False, 'is_translation_enabled': False, 'profile_background_color': 'F5F8FA', 'profile_background_image_url': None, 'profile_background_image_url_https': None, 'profile_background_tile': False, 'profile_image_url': 'http://pbs.twimg.com/profile_images/1249488346319110147/Dwb9ISA__normal.jpg', 'profile_image_url_https': 'https://pbs.twimg.com/profile_images/1249488346319110147/Dwb9ISA__normal.jpg', 'profile_link_color': '1DA1F2', 'profile_sidebar_border_color': 'C0DEED', 'profile_sidebar_fill_color': 'DDEEF6', 'profile_text_color': '333333', 'profile_use_background_image': True, 'has_extended_profile': False, 'default_profile': True, 'default_profile_image': False, 'following': False, 'follow_request_sent': False, 'notifications': False, 'translator_type': 'none'}, id=1249488110582292480, id_str='1249488110582292480', name='帅就完事了', screen_name='QkTOpp33FCsKBMB', location='', description='吃鸡爱好者', url=None, entities={'description': {'urls': []}}, protected=False, followers_count=0, friends_count=7, listed_count=0, created_at=datetime.datetime(2020, 4, 13, 0, 2, 45), favourites_count=15, utc_offset=None, time_zone=None, geo_enabled=False, verified=False, statuses_count=9, lang=None, contributors_enabled=False, is_translator=False, is_translation_enabled=False, profile_background_color='F5F8FA', profile_background_image_url=None, profile_background_image_url_https=None, profile_background_tile=False, profile_image_url='http://pbs.twimg.com/profile_images/1249488346319110147/Dwb9ISA__normal.jpg', profile_image_url_https='https://pbs.twimg.com/profile_images/1249488346319110147/Dwb9ISA__normal.jpg', profile_link_color='1DA1F2', profile_sidebar_border_color='C0DEED', profile_sidebar_fill_color='DDEEF6', profile_text_color='333333', profile_use_background_image=True, has_extended_profile=False, default_profile=True, default_profile_image=False, following=False, follow_request_sent=False, notifications=False, translator_type='none'), user=User(_api=<tweepy.api.API object at 0x7faebd623e10>, _json={'id': 1249488110582292480, 'id_str': '1249488110582292480', 'name': '帅就完事了', 'screen_name': 'QkTOpp33FCsKBMB', 'location': '', 'description': '吃鸡爱好者', 'url': None, 'entities': {'description': {'urls': []}}, 'protected': False, 'followers_count': 0, 'friends_count': 7, 'listed_count': 0, 'created_at': 'Mon Apr 13 00:02:45 +0000 2020', 'favourites_count': 15, 'utc_offset': None, 'time_zone': None, 'geo_enabled': False, 'verified': False, 'statuses_count': 9, 'lang': None, 'contributors_enabled': False, 'is_translator': False, 'is_translation_enabled': False, 'profile_background_color': 'F5F8FA', 'profile_background_image_url': None, 'profile_background_image_url_https': None, 'profile_background_tile': False, 'profile_image_url': 'http://pbs.twimg.com/profile_images/1249488346319110147/Dwb9ISA__normal.jpg', 'profile_image_url_https': 'https://pbs.twimg.com/profile_images/1249488346319110147/Dwb9ISA__normal.jpg', 'profile_link_color': '1DA1F2', 'profile_sidebar_border_color': 'C0DEED', 'profile_sidebar_fill_color': 'DDEEF6', 'profile_text_color': '333333', 'profile_use_background_image': True, 'has_extended_profile': False, 'default_profile': True, 'default_profile_image': False, 'following': False, 'follow_request_sent': False, 'notifications': False, 'translator_type': 'none'}, id=1249488110582292480, id_str='1249488110582292480', name='帅就完事了', screen_name='QkTOpp33FCsKBMB', location='', description='吃鸡爱好者', url=None, entities={'description': {'urls': []}}, protected=False, followers_count=0, friends_count=7, listed_count=0, created_at=datetime.datetime(2020, 4, 13, 0, 2, 45), favourites_count=15, utc_offset=None, time_zone=None, geo_enabled=False, verified=False, statuses_count=9, lang=None, contributors_enabled=False, is_translator=False, is_translation_enabled=False, profile_background_color='F5F8FA', profile_background_image_url=None, profile_background_image_url_https=None, profile_background_tile=False, profile_image_url='http://pbs.twimg.com/profile_images/1249488346319110147/Dwb9ISA__normal.jpg', profile_image_url_https='https://pbs.twimg.com/profile_images/1249488346319110147/Dwb9ISA__normal.jpg', profile_link_color='1DA1F2', profile_sidebar_border_color='C0DEED', profile_sidebar_fill_color='DDEEF6', profile_text_color='333333', profile_use_background_image=True, has_extended_profile=False, default_profile=True, default_profile_image=False, following=False, follow_request_sent=False, notifications=False, translator_type='none'), geo=None, coordinates=None, place=None, contributors=None, is_quote_status=False, retweet_count=0, favorite_count=0, favorited=False, retweeted=False, lang='en') \n",
            "\n",
            ".....................................\n",
            "\n",
            "Status(_api=<tweepy.api.API object at 0x7faebd623e10>, _json={'created_at': 'Sat Feb 20 12:58:29 +0000 2021', 'id': 1363110778363117570, 'id_str': '1363110778363117570', 'full_text': '.@mschlapp, the chairman of the @ACUConservative and organizer of @CPAC, has used the phrases like the “China Virus” or the “Chinese Corona “ in dozens of tweets over the last year. He should apologize. https://t.co/fWEysuVxte https://t.co/eK81mkQCMa', 'truncated': False, 'display_text_range': [0, 226], 'entities': {'hashtags': [], 'symbols': [], 'user_mentions': [{'screen_name': 'mschlapp', 'name': 'Matt Schlapp', 'id': 138809881, 'id_str': '138809881', 'indices': [1, 10]}, {'screen_name': 'ACUConservative', 'name': 'ACU', 'id': 56401482, 'id_str': '56401482', 'indices': [32, 48]}, {'screen_name': 'CPAC', 'name': 'CPAC 2021', 'id': 120295432, 'id_str': '120295432', 'indices': [66, 71]}], 'urls': [{'url': 'https://t.co/fWEysuVxte', 'expanded_url': 'https://twitter.com/chrislu44/status/1362964019083108353', 'display_url': 'twitter.com/chrislu44/stat…', 'indices': [203, 226]}], 'media': [{'id': 1363110774609223686, 'id_str': '1363110774609223686', 'indices': [227, 250], 'media_url': 'http://pbs.twimg.com/media/Euq-BwYXIAYwNPI.jpg', 'media_url_https': 'https://pbs.twimg.com/media/Euq-BwYXIAYwNPI.jpg', 'url': 'https://t.co/eK81mkQCMa', 'display_url': 'pic.twitter.com/eK81mkQCMa', 'expanded_url': 'https://twitter.com/VisibleSoul/status/1363110778363117570/photo/1', 'type': 'photo', 'sizes': {'thumb': {'w': 150, 'h': 150, 'resize': 'crop'}, 'large': {'w': 1125, 'h': 1110, 'resize': 'fit'}, 'medium': {'w': 1125, 'h': 1110, 'resize': 'fit'}, 'small': {'w': 680, 'h': 671, 'resize': 'fit'}}}]}, 'extended_entities': {'media': [{'id': 1363110774609223686, 'id_str': '1363110774609223686', 'indices': [227, 250], 'media_url': 'http://pbs.twimg.com/media/Euq-BwYXIAYwNPI.jpg', 'media_url_https': 'https://pbs.twimg.com/media/Euq-BwYXIAYwNPI.jpg', 'url': 'https://t.co/eK81mkQCMa', 'display_url': 'pic.twitter.com/eK81mkQCMa', 'expanded_url': 'https://twitter.com/VisibleSoul/status/1363110778363117570/photo/1', 'type': 'photo', 'sizes': {'thumb': {'w': 150, 'h': 150, 'resize': 'crop'}, 'large': {'w': 1125, 'h': 1110, 'resize': 'fit'}, 'medium': {'w': 1125, 'h': 1110, 'resize': 'fit'}, 'small': {'w': 680, 'h': 671, 'resize': 'fit'}}}, {'id': 1363110774613417986, 'id_str': '1363110774613417986', 'indices': [227, 250], 'media_url': 'http://pbs.twimg.com/media/Euq-BwZXIAIAYN2.jpg', 'media_url_https': 'https://pbs.twimg.com/media/Euq-BwZXIAIAYN2.jpg', 'url': 'https://t.co/eK81mkQCMa', 'display_url': 'pic.twitter.com/eK81mkQCMa', 'expanded_url': 'https://twitter.com/VisibleSoul/status/1363110778363117570/photo/1', 'type': 'photo', 'sizes': {'thumb': {'w': 150, 'h': 150, 'resize': 'crop'}, 'large': {'w': 1125, 'h': 1387, 'resize': 'fit'}, 'small': {'w': 552, 'h': 680, 'resize': 'fit'}, 'medium': {'w': 973, 'h': 1200, 'resize': 'fit'}}}]}, 'metadata': {'iso_language_code': 'en', 'result_type': 'recent'}, 'source': '<a href=\"http://twitter.com/#!/download/ipad\" rel=\"nofollow\">Twitter for iPad</a>', 'in_reply_to_status_id': None, 'in_reply_to_status_id_str': None, 'in_reply_to_user_id': None, 'in_reply_to_user_id_str': None, 'in_reply_to_screen_name': None, 'user': {'id': 15946404, 'id_str': '15946404', 'name': 'Zack Calhoon', 'screen_name': 'VisibleSoul', 'location': 'iPhone: 40.770401,-73.923676', 'description': 'Actor, Writer, Runner and Bibliophile', 'url': 'https://t.co/abZv9xQYyY', 'entities': {'url': {'urls': [{'url': 'https://t.co/abZv9xQYyY', 'expanded_url': 'http://www.zackcalhoon.com', 'display_url': 'zackcalhoon.com', 'indices': [0, 23]}]}, 'description': {'urls': []}}, 'protected': False, 'followers_count': 2178, 'friends_count': 3362, 'listed_count': 134, 'created_at': 'Fri Aug 22 15:51:23 +0000 2008', 'favourites_count': 240875, 'utc_offset': None, 'time_zone': None, 'geo_enabled': True, 'verified': False, 'statuses_count': 295016, 'lang': None, 'contributors_enabled': False, 'is_translator': False, 'is_translation_enabled': False, 'profile_background_color': 'C0DEED', 'profile_background_image_url': 'http://abs.twimg.com/images/themes/theme1/bg.png', 'profile_background_image_url_https': 'https://abs.twimg.com/images/themes/theme1/bg.png', 'profile_background_tile': False, 'profile_image_url': 'http://pbs.twimg.com/profile_images/889843526615347200/vWHjOrrc_normal.jpg', 'profile_image_url_https': 'https://pbs.twimg.com/profile_images/889843526615347200/vWHjOrrc_normal.jpg', 'profile_banner_url': 'https://pbs.twimg.com/profile_banners/15946404/1574712050', 'profile_link_color': '1DA1F2', 'profile_sidebar_border_color': 'C0DEED', 'profile_sidebar_fill_color': 'DDEEF6', 'profile_text_color': '333333', 'profile_use_background_image': True, 'has_extended_profile': True, 'default_profile': True, 'default_profile_image': False, 'following': False, 'follow_request_sent': False, 'notifications': False, 'translator_type': 'none'}, 'geo': None, 'coordinates': None, 'place': None, 'contributors': None, 'is_quote_status': True, 'quoted_status_id': 1362964019083108353, 'quoted_status_id_str': '1362964019083108353', 'quoted_status': {'created_at': 'Sat Feb 20 03:15:19 +0000 2021', 'id': 1362964019083108353, 'id_str': '1362964019083108353', 'full_text': 'The rise in violence against Asian Americans is entirely predictable after a year of scapegoating regarding the \"China Virus\" and \"Kung Flu.\" From my discussion with @mitchellreports. #AMR https://t.co/jJ6r90PKwF', 'truncated': False, 'display_text_range': [0, 188], 'entities': {'hashtags': [{'text': 'AMR', 'indices': [184, 188]}], 'symbols': [], 'user_mentions': [{'screen_name': 'mitchellreports', 'name': 'Andrea Mitchell', 'id': 89820928, 'id_str': '89820928', 'indices': [166, 182]}], 'urls': [], 'media': [{'id': 1362869354925338624, 'id_str': '1362869354925338624', 'indices': [189, 212], 'media_url': 'http://pbs.twimg.com/amplify_video_thumb/1362869354925338624/img/ySHnYbKGNnKw-bJh.jpg', 'media_url_https': 'https://pbs.twimg.com/amplify_video_thumb/1362869354925338624/img/ySHnYbKGNnKw-bJh.jpg', 'url': 'https://t.co/jJ6r90PKwF', 'display_url': 'pic.twitter.com/jJ6r90PKwF', 'expanded_url': 'https://twitter.com/ChrisLu44/status/1362964019083108353/video/1', 'type': 'photo', 'sizes': {'thumb': {'w': 150, 'h': 150, 'resize': 'crop'}, 'medium': {'w': 1200, 'h': 675, 'resize': 'fit'}, 'small': {'w': 680, 'h': 383, 'resize': 'fit'}, 'large': {'w': 1280, 'h': 720, 'resize': 'fit'}}}]}, 'extended_entities': {'media': [{'id': 1362869354925338624, 'id_str': '1362869354925338624', 'indices': [189, 212], 'media_url': 'http://pbs.twimg.com/amplify_video_thumb/1362869354925338624/img/ySHnYbKGNnKw-bJh.jpg', 'media_url_https': 'https://pbs.twimg.com/amplify_video_thumb/1362869354925338624/img/ySHnYbKGNnKw-bJh.jpg', 'url': 'https://t.co/jJ6r90PKwF', 'display_url': 'pic.twitter.com/jJ6r90PKwF', 'expanded_url': 'https://twitter.com/ChrisLu44/status/1362964019083108353/video/1', 'type': 'video', 'sizes': {'thumb': {'w': 150, 'h': 150, 'resize': 'crop'}, 'medium': {'w': 1200, 'h': 675, 'resize': 'fit'}, 'small': {'w': 680, 'h': 383, 'resize': 'fit'}, 'large': {'w': 1280, 'h': 720, 'resize': 'fit'}}, 'video_info': {'aspect_ratio': [16, 9], 'duration_millis': 90591, 'variants': [{'bitrate': 288000, 'content_type': 'video/mp4', 'url': 'https://video.twimg.com/amplify_video/1362869354925338624/vid/480x270/IeETvuQC1XIGM3SS.mp4?tag=13'}, {'content_type': 'application/x-mpegURL', 'url': 'https://video.twimg.com/amplify_video/1362869354925338624/pl/CUb2-fWVu40mHslo.m3u8?tag=13'}, {'bitrate': 832000, 'content_type': 'video/mp4', 'url': 'https://video.twimg.com/amplify_video/1362869354925338624/vid/640x360/eiQ7f-rhCzgf2bNX.mp4?tag=13'}, {'bitrate': 2176000, 'content_type': 'video/mp4', 'url': 'https://video.twimg.com/amplify_video/1362869354925338624/vid/1280x720/XoTdkxQizZAUN1HK.mp4?tag=13'}]}, 'additional_media_info': {'title': '', 'description': '', 'embeddable': True, 'monetizable': False}}]}, 'metadata': {'iso_language_code': 'en', 'result_type': 'recent'}, 'source': '<a href=\"https://studio.twitter.com\" rel=\"nofollow\">Twitter Media Studio</a>', 'in_reply_to_status_id': None, 'in_reply_to_status_id_str': None, 'in_reply_to_user_id': None, 'in_reply_to_user_id_str': None, 'in_reply_to_screen_name': None, 'user': {'id': 461697741, 'id_str': '461697741', 'name': 'Chris Lu', 'screen_name': 'ChrisLu44', 'location': '', 'description': 'Former Obama WH Cabinet Secretary; Deputy Secretary of Labor; Transition Director | Now: @Miller_Center Fellow; @FiscalNote Advisor', 'url': 'https://t.co/vjhQwOnGF5', 'entities': {'url': {'urls': [{'url': 'https://t.co/vjhQwOnGF5', 'expanded_url': 'https://millercenter.org/experts/chris-lu', 'display_url': 'millercenter.org/experts/chris-…', 'indices': [0, 23]}]}, 'description': {'urls': []}}, 'protected': False, 'followers_count': 76870, 'friends_count': 3855, 'listed_count': 738, 'created_at': 'Thu Jan 12 02:50:29 +0000 2012', 'favourites_count': 64857, 'utc_offset': None, 'time_zone': None, 'geo_enabled': True, 'verified': True, 'statuses_count': 22847, 'lang': None, 'contributors_enabled': False, 'is_translator': False, 'is_translation_enabled': False, 'profile_background_color': '000000', 'profile_background_image_url': 'http://abs.twimg.com/images/themes/theme1/bg.png', 'profile_background_image_url_https': 'https://abs.twimg.com/images/themes/theme1/bg.png', 'profile_background_tile': False, 'profile_image_url': 'http://pbs.twimg.com/profile_images/739167604514934784/as9mVLOb_normal.jpg', 'profile_image_url_https': 'https://pbs.twimg.com/profile_images/739167604514934784/as9mVLOb_normal.jpg', 'profile_banner_url': 'https://pbs.twimg.com/profile_banners/461697741/1423878868', 'profile_link_color': '3B94D9', 'profile_sidebar_border_color': '000000', 'profile_sidebar_fill_color': '000000', 'profile_text_color': '000000', 'profile_use_background_image': False, 'has_extended_profile': False, 'default_profile': False, 'default_profile_image': False, 'following': False, 'follow_request_sent': False, 'notifications': False, 'translator_type': 'none'}, 'geo': None, 'coordinates': None, 'place': None, 'contributors': None, 'is_quote_status': False, 'retweet_count': 149, 'favorite_count': 503, 'favorited': False, 'retweeted': False, 'possibly_sensitive': False, 'lang': 'en'}, 'retweet_count': 0, 'favorite_count': 0, 'favorited': False, 'retweeted': False, 'possibly_sensitive': False, 'lang': 'en'}, created_at=datetime.datetime(2021, 2, 20, 12, 58, 29), id=1363110778363117570, id_str='1363110778363117570', full_text='.@mschlapp, the chairman of the @ACUConservative and organizer of @CPAC, has used the phrases like the “China Virus” or the “Chinese Corona “ in dozens of tweets over the last year. He should apologize. https://t.co/fWEysuVxte https://t.co/eK81mkQCMa', truncated=False, display_text_range=[0, 226], entities={'hashtags': [], 'symbols': [], 'user_mentions': [{'screen_name': 'mschlapp', 'name': 'Matt Schlapp', 'id': 138809881, 'id_str': '138809881', 'indices': [1, 10]}, {'screen_name': 'ACUConservative', 'name': 'ACU', 'id': 56401482, 'id_str': '56401482', 'indices': [32, 48]}, {'screen_name': 'CPAC', 'name': 'CPAC 2021', 'id': 120295432, 'id_str': '120295432', 'indices': [66, 71]}], 'urls': [{'url': 'https://t.co/fWEysuVxte', 'expanded_url': 'https://twitter.com/chrislu44/status/1362964019083108353', 'display_url': 'twitter.com/chrislu44/stat…', 'indices': [203, 226]}], 'media': [{'id': 1363110774609223686, 'id_str': '1363110774609223686', 'indices': [227, 250], 'media_url': 'http://pbs.twimg.com/media/Euq-BwYXIAYwNPI.jpg', 'media_url_https': 'https://pbs.twimg.com/media/Euq-BwYXIAYwNPI.jpg', 'url': 'https://t.co/eK81mkQCMa', 'display_url': 'pic.twitter.com/eK81mkQCMa', 'expanded_url': 'https://twitter.com/VisibleSoul/status/1363110778363117570/photo/1', 'type': 'photo', 'sizes': {'thumb': {'w': 150, 'h': 150, 'resize': 'crop'}, 'large': {'w': 1125, 'h': 1110, 'resize': 'fit'}, 'medium': {'w': 1125, 'h': 1110, 'resize': 'fit'}, 'small': {'w': 680, 'h': 671, 'resize': 'fit'}}}]}, extended_entities={'media': [{'id': 1363110774609223686, 'id_str': '1363110774609223686', 'indices': [227, 250], 'media_url': 'http://pbs.twimg.com/media/Euq-BwYXIAYwNPI.jpg', 'media_url_https': 'https://pbs.twimg.com/media/Euq-BwYXIAYwNPI.jpg', 'url': 'https://t.co/eK81mkQCMa', 'display_url': 'pic.twitter.com/eK81mkQCMa', 'expanded_url': 'https://twitter.com/VisibleSoul/status/1363110778363117570/photo/1', 'type': 'photo', 'sizes': {'thumb': {'w': 150, 'h': 150, 'resize': 'crop'}, 'large': {'w': 1125, 'h': 1110, 'resize': 'fit'}, 'medium': {'w': 1125, 'h': 1110, 'resize': 'fit'}, 'small': {'w': 680, 'h': 671, 'resize': 'fit'}}}, {'id': 1363110774613417986, 'id_str': '1363110774613417986', 'indices': [227, 250], 'media_url': 'http://pbs.twimg.com/media/Euq-BwZXIAIAYN2.jpg', 'media_url_https': 'https://pbs.twimg.com/media/Euq-BwZXIAIAYN2.jpg', 'url': 'https://t.co/eK81mkQCMa', 'display_url': 'pic.twitter.com/eK81mkQCMa', 'expanded_url': 'https://twitter.com/VisibleSoul/status/1363110778363117570/photo/1', 'type': 'photo', 'sizes': {'thumb': {'w': 150, 'h': 150, 'resize': 'crop'}, 'large': {'w': 1125, 'h': 1387, 'resize': 'fit'}, 'small': {'w': 552, 'h': 680, 'resize': 'fit'}, 'medium': {'w': 973, 'h': 1200, 'resize': 'fit'}}}]}, metadata={'iso_language_code': 'en', 'result_type': 'recent'}, source='Twitter for iPad', source_url='http://twitter.com/#!/download/ipad', in_reply_to_status_id=None, in_reply_to_status_id_str=None, in_reply_to_user_id=None, in_reply_to_user_id_str=None, in_reply_to_screen_name=None, author=User(_api=<tweepy.api.API object at 0x7faebd623e10>, _json={'id': 15946404, 'id_str': '15946404', 'name': 'Zack Calhoon', 'screen_name': 'VisibleSoul', 'location': 'iPhone: 40.770401,-73.923676', 'description': 'Actor, Writer, Runner and Bibliophile', 'url': 'https://t.co/abZv9xQYyY', 'entities': {'url': {'urls': [{'url': 'https://t.co/abZv9xQYyY', 'expanded_url': 'http://www.zackcalhoon.com', 'display_url': 'zackcalhoon.com', 'indices': [0, 23]}]}, 'description': {'urls': []}}, 'protected': False, 'followers_count': 2178, 'friends_count': 3362, 'listed_count': 134, 'created_at': 'Fri Aug 22 15:51:23 +0000 2008', 'favourites_count': 240875, 'utc_offset': None, 'time_zone': None, 'geo_enabled': True, 'verified': False, 'statuses_count': 295016, 'lang': None, 'contributors_enabled': False, 'is_translator': False, 'is_translation_enabled': False, 'profile_background_color': 'C0DEED', 'profile_background_image_url': 'http://abs.twimg.com/images/themes/theme1/bg.png', 'profile_background_image_url_https': 'https://abs.twimg.com/images/themes/theme1/bg.png', 'profile_background_tile': False, 'profile_image_url': 'http://pbs.twimg.com/profile_images/889843526615347200/vWHjOrrc_normal.jpg', 'profile_image_url_https': 'https://pbs.twimg.com/profile_images/889843526615347200/vWHjOrrc_normal.jpg', 'profile_banner_url': 'https://pbs.twimg.com/profile_banners/15946404/1574712050', 'profile_link_color': '1DA1F2', 'profile_sidebar_border_color': 'C0DEED', 'profile_sidebar_fill_color': 'DDEEF6', 'profile_text_color': '333333', 'profile_use_background_image': True, 'has_extended_profile': True, 'default_profile': True, 'default_profile_image': False, 'following': False, 'follow_request_sent': False, 'notifications': False, 'translator_type': 'none'}, id=15946404, id_str='15946404', name='Zack Calhoon', screen_name='VisibleSoul', location='iPhone: 40.770401,-73.923676', description='Actor, Writer, Runner and Bibliophile', url='https://t.co/abZv9xQYyY', entities={'url': {'urls': [{'url': 'https://t.co/abZv9xQYyY', 'expanded_url': 'http://www.zackcalhoon.com', 'display_url': 'zackcalhoon.com', 'indices': [0, 23]}]}, 'description': {'urls': []}}, protected=False, followers_count=2178, friends_count=3362, listed_count=134, created_at=datetime.datetime(2008, 8, 22, 15, 51, 23), favourites_count=240875, utc_offset=None, time_zone=None, geo_enabled=True, verified=False, statuses_count=295016, lang=None, contributors_enabled=False, is_translator=False, is_translation_enabled=False, profile_background_color='C0DEED', profile_background_image_url='http://abs.twimg.com/images/themes/theme1/bg.png', profile_background_image_url_https='https://abs.twimg.com/images/themes/theme1/bg.png', profile_background_tile=False, profile_image_url='http://pbs.twimg.com/profile_images/889843526615347200/vWHjOrrc_normal.jpg', profile_image_url_https='https://pbs.twimg.com/profile_images/889843526615347200/vWHjOrrc_normal.jpg', profile_banner_url='https://pbs.twimg.com/profile_banners/15946404/1574712050', profile_link_color='1DA1F2', profile_sidebar_border_color='C0DEED', profile_sidebar_fill_color='DDEEF6', profile_text_color='333333', profile_use_background_image=True, has_extended_profile=True, default_profile=True, default_profile_image=False, following=False, follow_request_sent=False, notifications=False, translator_type='none'), user=User(_api=<tweepy.api.API object at 0x7faebd623e10>, _json={'id': 15946404, 'id_str': '15946404', 'name': 'Zack Calhoon', 'screen_name': 'VisibleSoul', 'location': 'iPhone: 40.770401,-73.923676', 'description': 'Actor, Writer, Runner and Bibliophile', 'url': 'https://t.co/abZv9xQYyY', 'entities': {'url': {'urls': [{'url': 'https://t.co/abZv9xQYyY', 'expanded_url': 'http://www.zackcalhoon.com', 'display_url': 'zackcalhoon.com', 'indices': [0, 23]}]}, 'description': {'urls': []}}, 'protected': False, 'followers_count': 2178, 'friends_count': 3362, 'listed_count': 134, 'created_at': 'Fri Aug 22 15:51:23 +0000 2008', 'favourites_count': 240875, 'utc_offset': None, 'time_zone': None, 'geo_enabled': True, 'verified': False, 'statuses_count': 295016, 'lang': None, 'contributors_enabled': False, 'is_translator': False, 'is_translation_enabled': False, 'profile_background_color': 'C0DEED', 'profile_background_image_url': 'http://abs.twimg.com/images/themes/theme1/bg.png', 'profile_background_image_url_https': 'https://abs.twimg.com/images/themes/theme1/bg.png', 'profile_background_tile': False, 'profile_image_url': 'http://pbs.twimg.com/profile_images/889843526615347200/vWHjOrrc_normal.jpg', 'profile_image_url_https': 'https://pbs.twimg.com/profile_images/889843526615347200/vWHjOrrc_normal.jpg', 'profile_banner_url': 'https://pbs.twimg.com/profile_banners/15946404/1574712050', 'profile_link_color': '1DA1F2', 'profile_sidebar_border_color': 'C0DEED', 'profile_sidebar_fill_color': 'DDEEF6', 'profile_text_color': '333333', 'profile_use_background_image': True, 'has_extended_profile': True, 'default_profile': True, 'default_profile_image': False, 'following': False, 'follow_request_sent': False, 'notifications': False, 'translator_type': 'none'}, id=15946404, id_str='15946404', name='Zack Calhoon', screen_name='VisibleSoul', location='iPhone: 40.770401,-73.923676', description='Actor, Writer, Runner and Bibliophile', url='https://t.co/abZv9xQYyY', entities={'url': {'urls': [{'url': 'https://t.co/abZv9xQYyY', 'expanded_url': 'http://www.zackcalhoon.com', 'display_url': 'zackcalhoon.com', 'indices': [0, 23]}]}, 'description': {'urls': []}}, protected=False, followers_count=2178, friends_count=3362, listed_count=134, created_at=datetime.datetime(2008, 8, 22, 15, 51, 23), favourites_count=240875, utc_offset=None, time_zone=None, geo_enabled=True, verified=False, statuses_count=295016, lang=None, contributors_enabled=False, is_translator=False, is_translation_enabled=False, profile_background_color='C0DEED', profile_background_image_url='http://abs.twimg.com/images/themes/theme1/bg.png', profile_background_image_url_https='https://abs.twimg.com/images/themes/theme1/bg.png', profile_background_tile=False, profile_image_url='http://pbs.twimg.com/profile_images/889843526615347200/vWHjOrrc_normal.jpg', profile_image_url_https='https://pbs.twimg.com/profile_images/889843526615347200/vWHjOrrc_normal.jpg', profile_banner_url='https://pbs.twimg.com/profile_banners/15946404/1574712050', profile_link_color='1DA1F2', profile_sidebar_border_color='C0DEED', profile_sidebar_fill_color='DDEEF6', profile_text_color='333333', profile_use_background_image=True, has_extended_profile=True, default_profile=True, default_profile_image=False, following=False, follow_request_sent=False, notifications=False, translator_type='none'), geo=None, coordinates=None, place=None, contributors=None, is_quote_status=True, quoted_status_id=1362964019083108353, quoted_status_id_str='1362964019083108353', quoted_status=Status(_api=<tweepy.api.API object at 0x7faebd623e10>, _json={'created_at': 'Sat Feb 20 03:15:19 +0000 2021', 'id': 1362964019083108353, 'id_str': '1362964019083108353', 'full_text': 'The rise in violence against Asian Americans is entirely predictable after a year of scapegoating regarding the \"China Virus\" and \"Kung Flu.\" From my discussion with @mitchellreports. #AMR https://t.co/jJ6r90PKwF', 'truncated': False, 'display_text_range': [0, 188], 'entities': {'hashtags': [{'text': 'AMR', 'indices': [184, 188]}], 'symbols': [], 'user_mentions': [{'screen_name': 'mitchellreports', 'name': 'Andrea Mitchell', 'id': 89820928, 'id_str': '89820928', 'indices': [166, 182]}], 'urls': [], 'media': [{'id': 1362869354925338624, 'id_str': '1362869354925338624', 'indices': [189, 212], 'media_url': 'http://pbs.twimg.com/amplify_video_thumb/1362869354925338624/img/ySHnYbKGNnKw-bJh.jpg', 'media_url_https': 'https://pbs.twimg.com/amplify_video_thumb/1362869354925338624/img/ySHnYbKGNnKw-bJh.jpg', 'url': 'https://t.co/jJ6r90PKwF', 'display_url': 'pic.twitter.com/jJ6r90PKwF', 'expanded_url': 'https://twitter.com/ChrisLu44/status/1362964019083108353/video/1', 'type': 'photo', 'sizes': {'thumb': {'w': 150, 'h': 150, 'resize': 'crop'}, 'medium': {'w': 1200, 'h': 675, 'resize': 'fit'}, 'small': {'w': 680, 'h': 383, 'resize': 'fit'}, 'large': {'w': 1280, 'h': 720, 'resize': 'fit'}}}]}, 'extended_entities': {'media': [{'id': 1362869354925338624, 'id_str': '1362869354925338624', 'indices': [189, 212], 'media_url': 'http://pbs.twimg.com/amplify_video_thumb/1362869354925338624/img/ySHnYbKGNnKw-bJh.jpg', 'media_url_https': 'https://pbs.twimg.com/amplify_video_thumb/1362869354925338624/img/ySHnYbKGNnKw-bJh.jpg', 'url': 'https://t.co/jJ6r90PKwF', 'display_url': 'pic.twitter.com/jJ6r90PKwF', 'expanded_url': 'https://twitter.com/ChrisLu44/status/1362964019083108353/video/1', 'type': 'video', 'sizes': {'thumb': {'w': 150, 'h': 150, 'resize': 'crop'}, 'medium': {'w': 1200, 'h': 675, 'resize': 'fit'}, 'small': {'w': 680, 'h': 383, 'resize': 'fit'}, 'large': {'w': 1280, 'h': 720, 'resize': 'fit'}}, 'video_info': {'aspect_ratio': [16, 9], 'duration_millis': 90591, 'variants': [{'bitrate': 288000, 'content_type': 'video/mp4', 'url': 'https://video.twimg.com/amplify_video/1362869354925338624/vid/480x270/IeETvuQC1XIGM3SS.mp4?tag=13'}, {'content_type': 'application/x-mpegURL', 'url': 'https://video.twimg.com/amplify_video/1362869354925338624/pl/CUb2-fWVu40mHslo.m3u8?tag=13'}, {'bitrate': 832000, 'content_type': 'video/mp4', 'url': 'https://video.twimg.com/amplify_video/1362869354925338624/vid/640x360/eiQ7f-rhCzgf2bNX.mp4?tag=13'}, {'bitrate': 2176000, 'content_type': 'video/mp4', 'url': 'https://video.twimg.com/amplify_video/1362869354925338624/vid/1280x720/XoTdkxQizZAUN1HK.mp4?tag=13'}]}, 'additional_media_info': {'title': '', 'description': '', 'embeddable': True, 'monetizable': False}}]}, 'metadata': {'iso_language_code': 'en', 'result_type': 'recent'}, 'source': '<a href=\"https://studio.twitter.com\" rel=\"nofollow\">Twitter Media Studio</a>', 'in_reply_to_status_id': None, 'in_reply_to_status_id_str': None, 'in_reply_to_user_id': None, 'in_reply_to_user_id_str': None, 'in_reply_to_screen_name': None, 'user': {'id': 461697741, 'id_str': '461697741', 'name': 'Chris Lu', 'screen_name': 'ChrisLu44', 'location': '', 'description': 'Former Obama WH Cabinet Secretary; Deputy Secretary of Labor; Transition Director | Now: @Miller_Center Fellow; @FiscalNote Advisor', 'url': 'https://t.co/vjhQwOnGF5', 'entities': {'url': {'urls': [{'url': 'https://t.co/vjhQwOnGF5', 'expanded_url': 'https://millercenter.org/experts/chris-lu', 'display_url': 'millercenter.org/experts/chris-…', 'indices': [0, 23]}]}, 'description': {'urls': []}}, 'protected': False, 'followers_count': 76870, 'friends_count': 3855, 'listed_count': 738, 'created_at': 'Thu Jan 12 02:50:29 +0000 2012', 'favourites_count': 64857, 'utc_offset': None, 'time_zone': None, 'geo_enabled': True, 'verified': True, 'statuses_count': 22847, 'lang': None, 'contributors_enabled': False, 'is_translator': False, 'is_translation_enabled': False, 'profile_background_color': '000000', 'profile_background_image_url': 'http://abs.twimg.com/images/themes/theme1/bg.png', 'profile_background_image_url_https': 'https://abs.twimg.com/images/themes/theme1/bg.png', 'profile_background_tile': False, 'profile_image_url': 'http://pbs.twimg.com/profile_images/739167604514934784/as9mVLOb_normal.jpg', 'profile_image_url_https': 'https://pbs.twimg.com/profile_images/739167604514934784/as9mVLOb_normal.jpg', 'profile_banner_url': 'https://pbs.twimg.com/profile_banners/461697741/1423878868', 'profile_link_color': '3B94D9', 'profile_sidebar_border_color': '000000', 'profile_sidebar_fill_color': '000000', 'profile_text_color': '000000', 'profile_use_background_image': False, 'has_extended_profile': False, 'default_profile': False, 'default_profile_image': False, 'following': False, 'follow_request_sent': False, 'notifications': False, 'translator_type': 'none'}, 'geo': None, 'coordinates': None, 'place': None, 'contributors': None, 'is_quote_status': False, 'retweet_count': 149, 'favorite_count': 503, 'favorited': False, 'retweeted': False, 'possibly_sensitive': False, 'lang': 'en'}, created_at=datetime.datetime(2021, 2, 20, 3, 15, 19), id=1362964019083108353, id_str='1362964019083108353', full_text='The rise in violence against Asian Americans is entirely predictable after a year of scapegoating regarding the \"China Virus\" and \"Kung Flu.\" From my discussion with @mitchellreports. #AMR https://t.co/jJ6r90PKwF', truncated=False, display_text_range=[0, 188], entities={'hashtags': [{'text': 'AMR', 'indices': [184, 188]}], 'symbols': [], 'user_mentions': [{'screen_name': 'mitchellreports', 'name': 'Andrea Mitchell', 'id': 89820928, 'id_str': '89820928', 'indices': [166, 182]}], 'urls': [], 'media': [{'id': 1362869354925338624, 'id_str': '1362869354925338624', 'indices': [189, 212], 'media_url': 'http://pbs.twimg.com/amplify_video_thumb/1362869354925338624/img/ySHnYbKGNnKw-bJh.jpg', 'media_url_https': 'https://pbs.twimg.com/amplify_video_thumb/1362869354925338624/img/ySHnYbKGNnKw-bJh.jpg', 'url': 'https://t.co/jJ6r90PKwF', 'display_url': 'pic.twitter.com/jJ6r90PKwF', 'expanded_url': 'https://twitter.com/ChrisLu44/status/1362964019083108353/video/1', 'type': 'photo', 'sizes': {'thumb': {'w': 150, 'h': 150, 'resize': 'crop'}, 'medium': {'w': 1200, 'h': 675, 'resize': 'fit'}, 'small': {'w': 680, 'h': 383, 'resize': 'fit'}, 'large': {'w': 1280, 'h': 720, 'resize': 'fit'}}}]}, extended_entities={'media': [{'id': 1362869354925338624, 'id_str': '1362869354925338624', 'indices': [189, 212], 'media_url': 'http://pbs.twimg.com/amplify_video_thumb/1362869354925338624/img/ySHnYbKGNnKw-bJh.jpg', 'media_url_https': 'https://pbs.twimg.com/amplify_video_thumb/1362869354925338624/img/ySHnYbKGNnKw-bJh.jpg', 'url': 'https://t.co/jJ6r90PKwF', 'display_url': 'pic.twitter.com/jJ6r90PKwF', 'expanded_url': 'https://twitter.com/ChrisLu44/status/1362964019083108353/video/1', 'type': 'video', 'sizes': {'thumb': {'w': 150, 'h': 150, 'resize': 'crop'}, 'medium': {'w': 1200, 'h': 675, 'resize': 'fit'}, 'small': {'w': 680, 'h': 383, 'resize': 'fit'}, 'large': {'w': 1280, 'h': 720, 'resize': 'fit'}}, 'video_info': {'aspect_ratio': [16, 9], 'duration_millis': 90591, 'variants': [{'bitrate': 288000, 'content_type': 'video/mp4', 'url': 'https://video.twimg.com/amplify_video/1362869354925338624/vid/480x270/IeETvuQC1XIGM3SS.mp4?tag=13'}, {'content_type': 'application/x-mpegURL', 'url': 'https://video.twimg.com/amplify_video/1362869354925338624/pl/CUb2-fWVu40mHslo.m3u8?tag=13'}, {'bitrate': 832000, 'content_type': 'video/mp4', 'url': 'https://video.twimg.com/amplify_video/1362869354925338624/vid/640x360/eiQ7f-rhCzgf2bNX.mp4?tag=13'}, {'bitrate': 2176000, 'content_type': 'video/mp4', 'url': 'https://video.twimg.com/amplify_video/1362869354925338624/vid/1280x720/XoTdkxQizZAUN1HK.mp4?tag=13'}]}, 'additional_media_info': {'title': '', 'description': '', 'embeddable': True, 'monetizable': False}}]}, metadata={'iso_language_code': 'en', 'result_type': 'recent'}, source='Twitter Media Studio', source_url='https://studio.twitter.com', in_reply_to_status_id=None, in_reply_to_status_id_str=None, in_reply_to_user_id=None, in_reply_to_user_id_str=None, in_reply_to_screen_name=None, author=User(_api=<tweepy.api.API object at 0x7faebd623e10>, _json={'id': 461697741, 'id_str': '461697741', 'name': 'Chris Lu', 'screen_name': 'ChrisLu44', 'location': '', 'description': 'Former Obama WH Cabinet Secretary; Deputy Secretary of Labor; Transition Director | Now: @Miller_Center Fellow; @FiscalNote Advisor', 'url': 'https://t.co/vjhQwOnGF5', 'entities': {'url': {'urls': [{'url': 'https://t.co/vjhQwOnGF5', 'expanded_url': 'https://millercenter.org/experts/chris-lu', 'display_url': 'millercenter.org/experts/chris-…', 'indices': [0, 23]}]}, 'description': {'urls': []}}, 'protected': False, 'followers_count': 76870, 'friends_count': 3855, 'listed_count': 738, 'created_at': 'Thu Jan 12 02:50:29 +0000 2012', 'favourites_count': 64857, 'utc_offset': None, 'time_zone': None, 'geo_enabled': True, 'verified': True, 'statuses_count': 22847, 'lang': None, 'contributors_enabled': False, 'is_translator': False, 'is_translation_enabled': False, 'profile_background_color': '000000', 'profile_background_image_url': 'http://abs.twimg.com/images/themes/theme1/bg.png', 'profile_background_image_url_https': 'https://abs.twimg.com/images/themes/theme1/bg.png', 'profile_background_tile': False, 'profile_image_url': 'http://pbs.twimg.com/profile_images/739167604514934784/as9mVLOb_normal.jpg', 'profile_image_url_https': 'https://pbs.twimg.com/profile_images/739167604514934784/as9mVLOb_normal.jpg', 'profile_banner_url': 'https://pbs.twimg.com/profile_banners/461697741/1423878868', 'profile_link_color': '3B94D9', 'profile_sidebar_border_color': '000000', 'profile_sidebar_fill_color': '000000', 'profile_text_color': '000000', 'profile_use_background_image': False, 'has_extended_profile': False, 'default_profile': False, 'default_profile_image': False, 'following': False, 'follow_request_sent': False, 'notifications': False, 'translator_type': 'none'}, id=461697741, id_str='461697741', name='Chris Lu', screen_name='ChrisLu44', location='', description='Former Obama WH Cabinet Secretary; Deputy Secretary of Labor; Transition Director | Now: @Miller_Center Fellow; @FiscalNote Advisor', url='https://t.co/vjhQwOnGF5', entities={'url': {'urls': [{'url': 'https://t.co/vjhQwOnGF5', 'expanded_url': 'https://millercenter.org/experts/chris-lu', 'display_url': 'millercenter.org/experts/chris-…', 'indices': [0, 23]}]}, 'description': {'urls': []}}, protected=False, followers_count=76870, friends_count=3855, listed_count=738, created_at=datetime.datetime(2012, 1, 12, 2, 50, 29), favourites_count=64857, utc_offset=None, time_zone=None, geo_enabled=True, verified=True, statuses_count=22847, lang=None, contributors_enabled=False, is_translator=False, is_translation_enabled=False, profile_background_color='000000', profile_background_image_url='http://abs.twimg.com/images/themes/theme1/bg.png', profile_background_image_url_https='https://abs.twimg.com/images/themes/theme1/bg.png', profile_background_tile=False, profile_image_url='http://pbs.twimg.com/profile_images/739167604514934784/as9mVLOb_normal.jpg', profile_image_url_https='https://pbs.twimg.com/profile_images/739167604514934784/as9mVLOb_normal.jpg', profile_banner_url='https://pbs.twimg.com/profile_banners/461697741/1423878868', profile_link_color='3B94D9', profile_sidebar_border_color='000000', profile_sidebar_fill_color='000000', profile_text_color='000000', profile_use_background_image=False, has_extended_profile=False, default_profile=False, default_profile_image=False, following=False, follow_request_sent=False, notifications=False, translator_type='none'), user=User(_api=<tweepy.api.API object at 0x7faebd623e10>, _json={'id': 461697741, 'id_str': '461697741', 'name': 'Chris Lu', 'screen_name': 'ChrisLu44', 'location': '', 'description': 'Former Obama WH Cabinet Secretary; Deputy Secretary of Labor; Transition Director | Now: @Miller_Center Fellow; @FiscalNote Advisor', 'url': 'https://t.co/vjhQwOnGF5', 'entities': {'url': {'urls': [{'url': 'https://t.co/vjhQwOnGF5', 'expanded_url': 'https://millercenter.org/experts/chris-lu', 'display_url': 'millercenter.org/experts/chris-…', 'indices': [0, 23]}]}, 'description': {'urls': []}}, 'protected': False, 'followers_count': 76870, 'friends_count': 3855, 'listed_count': 738, 'created_at': 'Thu Jan 12 02:50:29 +0000 2012', 'favourites_count': 64857, 'utc_offset': None, 'time_zone': None, 'geo_enabled': True, 'verified': True, 'statuses_count': 22847, 'lang': None, 'contributors_enabled': False, 'is_translator': False, 'is_translation_enabled': False, 'profile_background_color': '000000', 'profile_background_image_url': 'http://abs.twimg.com/images/themes/theme1/bg.png', 'profile_background_image_url_https': 'https://abs.twimg.com/images/themes/theme1/bg.png', 'profile_background_tile': False, 'profile_image_url': 'http://pbs.twimg.com/profile_images/739167604514934784/as9mVLOb_normal.jpg', 'profile_image_url_https': 'https://pbs.twimg.com/profile_images/739167604514934784/as9mVLOb_normal.jpg', 'profile_banner_url': 'https://pbs.twimg.com/profile_banners/461697741/1423878868', 'profile_link_color': '3B94D9', 'profile_sidebar_border_color': '000000', 'profile_sidebar_fill_color': '000000', 'profile_text_color': '000000', 'profile_use_background_image': False, 'has_extended_profile': False, 'default_profile': False, 'default_profile_image': False, 'following': False, 'follow_request_sent': False, 'notifications': False, 'translator_type': 'none'}, id=461697741, id_str='461697741', name='Chris Lu', screen_name='ChrisLu44', location='', description='Former Obama WH Cabinet Secretary; Deputy Secretary of Labor; Transition Director | Now: @Miller_Center Fellow; @FiscalNote Advisor', url='https://t.co/vjhQwOnGF5', entities={'url': {'urls': [{'url': 'https://t.co/vjhQwOnGF5', 'expanded_url': 'https://millercenter.org/experts/chris-lu', 'display_url': 'millercenter.org/experts/chris-…', 'indices': [0, 23]}]}, 'description': {'urls': []}}, protected=False, followers_count=76870, friends_count=3855, listed_count=738, created_at=datetime.datetime(2012, 1, 12, 2, 50, 29), favourites_count=64857, utc_offset=None, time_zone=None, geo_enabled=True, verified=True, statuses_count=22847, lang=None, contributors_enabled=False, is_translator=False, is_translation_enabled=False, profile_background_color='000000', profile_background_image_url='http://abs.twimg.com/images/themes/theme1/bg.png', profile_background_image_url_https='https://abs.twimg.com/images/themes/theme1/bg.png', profile_background_tile=False, profile_image_url='http://pbs.twimg.com/profile_images/739167604514934784/as9mVLOb_normal.jpg', profile_image_url_https='https://pbs.twimg.com/profile_images/739167604514934784/as9mVLOb_normal.jpg', profile_banner_url='https://pbs.twimg.com/profile_banners/461697741/1423878868', profile_link_color='3B94D9', profile_sidebar_border_color='000000', profile_sidebar_fill_color='000000', profile_text_color='000000', profile_use_background_image=False, has_extended_profile=False, default_profile=False, default_profile_image=False, following=False, follow_request_sent=False, notifications=False, translator_type='none'), geo=None, coordinates=None, place=None, contributors=None, is_quote_status=False, retweet_count=149, favorite_count=503, favorited=False, retweeted=False, possibly_sensitive=False, lang='en'), retweet_count=0, favorite_count=0, favorited=False, retweeted=False, possibly_sensitive=False, lang='en') \n",
            "\n",
            ".....................................\n",
            "\n",
            "Status(_api=<tweepy.api.API object at 0x7faebd623e10>, _json={'created_at': 'Sat Feb 20 12:58:21 +0000 2021', 'id': 1363110746360479744, 'id_str': '1363110746360479744', 'full_text': '@Shafqat_Mahmood Please extend the date of SSC and Hssc annual examination because of Corona virus students have no preparation for exams', 'truncated': False, 'display_text_range': [17, 137], 'entities': {'hashtags': [], 'symbols': [], 'user_mentions': [{'screen_name': 'Shafqat_Mahmood', 'name': 'Shafqat Mahmood', 'id': 440662588, 'id_str': '440662588', 'indices': [0, 16]}], 'urls': []}, 'metadata': {'iso_language_code': 'en', 'result_type': 'recent'}, 'source': '<a href=\"https://mobile.twitter.com\" rel=\"nofollow\">Twitter Web App</a>', 'in_reply_to_status_id': 1361731105452359681, 'in_reply_to_status_id_str': '1361731105452359681', 'in_reply_to_user_id': 440662588, 'in_reply_to_user_id_str': '440662588', 'in_reply_to_screen_name': 'Shafqat_Mahmood', 'user': {'id': 1362330583204995073, 'id_str': '1362330583204995073', 'name': 'Hira abid rajpoot', 'screen_name': 'Hiraabidrajpoo1', 'location': '', 'description': 'I am muslim', 'url': None, 'entities': {'description': {'urls': []}}, 'protected': False, 'followers_count': 0, 'friends_count': 1, 'listed_count': 0, 'created_at': 'Thu Feb 18 09:18:30 +0000 2021', 'favourites_count': 3, 'utc_offset': None, 'time_zone': None, 'geo_enabled': False, 'verified': False, 'statuses_count': 5, 'lang': None, 'contributors_enabled': False, 'is_translator': False, 'is_translation_enabled': False, 'profile_background_color': 'F5F8FA', 'profile_background_image_url': None, 'profile_background_image_url_https': None, 'profile_background_tile': False, 'profile_image_url': 'http://abs.twimg.com/sticky/default_profile_images/default_profile_normal.png', 'profile_image_url_https': 'https://abs.twimg.com/sticky/default_profile_images/default_profile_normal.png', 'profile_link_color': '1DA1F2', 'profile_sidebar_border_color': 'C0DEED', 'profile_sidebar_fill_color': 'DDEEF6', 'profile_text_color': '333333', 'profile_use_background_image': True, 'has_extended_profile': True, 'default_profile': True, 'default_profile_image': True, 'following': False, 'follow_request_sent': False, 'notifications': False, 'translator_type': 'none'}, 'geo': None, 'coordinates': None, 'place': None, 'contributors': None, 'is_quote_status': False, 'retweet_count': 0, 'favorite_count': 0, 'favorited': False, 'retweeted': False, 'lang': 'en'}, created_at=datetime.datetime(2021, 2, 20, 12, 58, 21), id=1363110746360479744, id_str='1363110746360479744', full_text='@Shafqat_Mahmood Please extend the date of SSC and Hssc annual examination because of Corona virus students have no preparation for exams', truncated=False, display_text_range=[17, 137], entities={'hashtags': [], 'symbols': [], 'user_mentions': [{'screen_name': 'Shafqat_Mahmood', 'name': 'Shafqat Mahmood', 'id': 440662588, 'id_str': '440662588', 'indices': [0, 16]}], 'urls': []}, metadata={'iso_language_code': 'en', 'result_type': 'recent'}, source='Twitter Web App', source_url='https://mobile.twitter.com', in_reply_to_status_id=1361731105452359681, in_reply_to_status_id_str='1361731105452359681', in_reply_to_user_id=440662588, in_reply_to_user_id_str='440662588', in_reply_to_screen_name='Shafqat_Mahmood', author=User(_api=<tweepy.api.API object at 0x7faebd623e10>, _json={'id': 1362330583204995073, 'id_str': '1362330583204995073', 'name': 'Hira abid rajpoot', 'screen_name': 'Hiraabidrajpoo1', 'location': '', 'description': 'I am muslim', 'url': None, 'entities': {'description': {'urls': []}}, 'protected': False, 'followers_count': 0, 'friends_count': 1, 'listed_count': 0, 'created_at': 'Thu Feb 18 09:18:30 +0000 2021', 'favourites_count': 3, 'utc_offset': None, 'time_zone': None, 'geo_enabled': False, 'verified': False, 'statuses_count': 5, 'lang': None, 'contributors_enabled': False, 'is_translator': False, 'is_translation_enabled': False, 'profile_background_color': 'F5F8FA', 'profile_background_image_url': None, 'profile_background_image_url_https': None, 'profile_background_tile': False, 'profile_image_url': 'http://abs.twimg.com/sticky/default_profile_images/default_profile_normal.png', 'profile_image_url_https': 'https://abs.twimg.com/sticky/default_profile_images/default_profile_normal.png', 'profile_link_color': '1DA1F2', 'profile_sidebar_border_color': 'C0DEED', 'profile_sidebar_fill_color': 'DDEEF6', 'profile_text_color': '333333', 'profile_use_background_image': True, 'has_extended_profile': True, 'default_profile': True, 'default_profile_image': True, 'following': False, 'follow_request_sent': False, 'notifications': False, 'translator_type': 'none'}, id=1362330583204995073, id_str='1362330583204995073', name='Hira abid rajpoot', screen_name='Hiraabidrajpoo1', location='', description='I am muslim', url=None, entities={'description': {'urls': []}}, protected=False, followers_count=0, friends_count=1, listed_count=0, created_at=datetime.datetime(2021, 2, 18, 9, 18, 30), favourites_count=3, utc_offset=None, time_zone=None, geo_enabled=False, verified=False, statuses_count=5, lang=None, contributors_enabled=False, is_translator=False, is_translation_enabled=False, profile_background_color='F5F8FA', profile_background_image_url=None, profile_background_image_url_https=None, profile_background_tile=False, profile_image_url='http://abs.twimg.com/sticky/default_profile_images/default_profile_normal.png', profile_image_url_https='https://abs.twimg.com/sticky/default_profile_images/default_profile_normal.png', profile_link_color='1DA1F2', profile_sidebar_border_color='C0DEED', profile_sidebar_fill_color='DDEEF6', profile_text_color='333333', profile_use_background_image=True, has_extended_profile=True, default_profile=True, default_profile_image=True, following=False, follow_request_sent=False, notifications=False, translator_type='none'), user=User(_api=<tweepy.api.API object at 0x7faebd623e10>, _json={'id': 1362330583204995073, 'id_str': '1362330583204995073', 'name': 'Hira abid rajpoot', 'screen_name': 'Hiraabidrajpoo1', 'location': '', 'description': 'I am muslim', 'url': None, 'entities': {'description': {'urls': []}}, 'protected': False, 'followers_count': 0, 'friends_count': 1, 'listed_count': 0, 'created_at': 'Thu Feb 18 09:18:30 +0000 2021', 'favourites_count': 3, 'utc_offset': None, 'time_zone': None, 'geo_enabled': False, 'verified': False, 'statuses_count': 5, 'lang': None, 'contributors_enabled': False, 'is_translator': False, 'is_translation_enabled': False, 'profile_background_color': 'F5F8FA', 'profile_background_image_url': None, 'profile_background_image_url_https': None, 'profile_background_tile': False, 'profile_image_url': 'http://abs.twimg.com/sticky/default_profile_images/default_profile_normal.png', 'profile_image_url_https': 'https://abs.twimg.com/sticky/default_profile_images/default_profile_normal.png', 'profile_link_color': '1DA1F2', 'profile_sidebar_border_color': 'C0DEED', 'profile_sidebar_fill_color': 'DDEEF6', 'profile_text_color': '333333', 'profile_use_background_image': True, 'has_extended_profile': True, 'default_profile': True, 'default_profile_image': True, 'following': False, 'follow_request_sent': False, 'notifications': False, 'translator_type': 'none'}, id=1362330583204995073, id_str='1362330583204995073', name='Hira abid rajpoot', screen_name='Hiraabidrajpoo1', location='', description='I am muslim', url=None, entities={'description': {'urls': []}}, protected=False, followers_count=0, friends_count=1, listed_count=0, created_at=datetime.datetime(2021, 2, 18, 9, 18, 30), favourites_count=3, utc_offset=None, time_zone=None, geo_enabled=False, verified=False, statuses_count=5, lang=None, contributors_enabled=False, is_translator=False, is_translation_enabled=False, profile_background_color='F5F8FA', profile_background_image_url=None, profile_background_image_url_https=None, profile_background_tile=False, profile_image_url='http://abs.twimg.com/sticky/default_profile_images/default_profile_normal.png', profile_image_url_https='https://abs.twimg.com/sticky/default_profile_images/default_profile_normal.png', profile_link_color='1DA1F2', profile_sidebar_border_color='C0DEED', profile_sidebar_fill_color='DDEEF6', profile_text_color='333333', profile_use_background_image=True, has_extended_profile=True, default_profile=True, default_profile_image=True, following=False, follow_request_sent=False, notifications=False, translator_type='none'), geo=None, coordinates=None, place=None, contributors=None, is_quote_status=False, retweet_count=0, favorite_count=0, favorited=False, retweeted=False, lang='en') \n",
            "\n",
            ".....................................\n",
            "\n",
            "Status(_api=<tweepy.api.API object at 0x7faebd623e10>, _json={'created_at': 'Sat Feb 20 12:57:42 +0000 2021', 'id': 1363110579435692040, 'id_str': '1363110579435692040', 'full_text': '#Drishyam2 has been the talk of the town !\\n\\nOvertaking #Pulimurugan Kerala Gross is a Herculean task which even #Baahubali2 &amp; #Lucifer failed but I feel #Drishyam2 had a big chance\\n\\nPS: I know Corona Virus but I very well also know wat Brand #Mohanlal can do with Super +ve talk ! https://t.co/EEwVre1aUT', 'truncated': False, 'display_text_range': [0, 284], 'entities': {'hashtags': [{'text': 'Drishyam2', 'indices': [0, 10]}, {'text': 'Pulimurugan', 'indices': [55, 67]}, {'text': 'Baahubali2', 'indices': [112, 123]}, {'text': 'Lucifer', 'indices': [130, 138]}, {'text': 'Drishyam2', 'indices': [157, 167]}, {'text': 'Mohanlal', 'indices': [246, 255]}], 'symbols': [], 'user_mentions': [], 'urls': [], 'media': [{'id': 1363110576491278338, 'id_str': '1363110576491278338', 'indices': [285, 308], 'media_url': 'http://pbs.twimg.com/media/Euq92OVXMAI6_il.jpg', 'media_url_https': 'https://pbs.twimg.com/media/Euq92OVXMAI6_il.jpg', 'url': 'https://t.co/EEwVre1aUT', 'display_url': 'pic.twitter.com/EEwVre1aUT', 'expanded_url': 'https://twitter.com/ImUtopian1990/status/1363110579435692040/photo/1', 'type': 'photo', 'sizes': {'thumb': {'w': 150, 'h': 150, 'resize': 'crop'}, 'small': {'w': 282, 'h': 353, 'resize': 'fit'}, 'medium': {'w': 282, 'h': 353, 'resize': 'fit'}, 'large': {'w': 282, 'h': 353, 'resize': 'fit'}}}]}, 'extended_entities': {'media': [{'id': 1363110576491278338, 'id_str': '1363110576491278338', 'indices': [285, 308], 'media_url': 'http://pbs.twimg.com/media/Euq92OVXMAI6_il.jpg', 'media_url_https': 'https://pbs.twimg.com/media/Euq92OVXMAI6_il.jpg', 'url': 'https://t.co/EEwVre1aUT', 'display_url': 'pic.twitter.com/EEwVre1aUT', 'expanded_url': 'https://twitter.com/ImUtopian1990/status/1363110579435692040/photo/1', 'type': 'photo', 'sizes': {'thumb': {'w': 150, 'h': 150, 'resize': 'crop'}, 'small': {'w': 282, 'h': 353, 'resize': 'fit'}, 'medium': {'w': 282, 'h': 353, 'resize': 'fit'}, 'large': {'w': 282, 'h': 353, 'resize': 'fit'}}}]}, 'metadata': {'iso_language_code': 'en', 'result_type': 'recent'}, 'source': '<a href=\"http://twitter.com/download/android\" rel=\"nofollow\">Twitter for Android</a>', 'in_reply_to_status_id': None, 'in_reply_to_status_id_str': None, 'in_reply_to_user_id': None, 'in_reply_to_user_id_str': None, 'in_reply_to_screen_name': None, 'user': {'id': 1138884626531934208, 'id_str': '1138884626531934208', 'name': 'ImUtopian', 'screen_name': 'ImUtopian1990', 'location': '', 'description': 'Moviebuff / Cricket / Trader / Survivor', 'url': None, 'entities': {'description': {'urls': []}}, 'protected': False, 'followers_count': 106, 'friends_count': 21, 'listed_count': 1, 'created_at': 'Wed Jun 12 19:03:49 +0000 2019', 'favourites_count': 1770, 'utc_offset': None, 'time_zone': None, 'geo_enabled': False, 'verified': False, 'statuses_count': 3851, 'lang': None, 'contributors_enabled': False, 'is_translator': False, 'is_translation_enabled': False, 'profile_background_color': 'F5F8FA', 'profile_background_image_url': None, 'profile_background_image_url_https': None, 'profile_background_tile': False, 'profile_image_url': 'http://pbs.twimg.com/profile_images/1138886397392240640/F1UvcfWr_normal.jpg', 'profile_image_url_https': 'https://pbs.twimg.com/profile_images/1138886397392240640/F1UvcfWr_normal.jpg', 'profile_link_color': '1DA1F2', 'profile_sidebar_border_color': 'C0DEED', 'profile_sidebar_fill_color': 'DDEEF6', 'profile_text_color': '333333', 'profile_use_background_image': True, 'has_extended_profile': False, 'default_profile': True, 'default_profile_image': False, 'following': False, 'follow_request_sent': False, 'notifications': False, 'translator_type': 'none'}, 'geo': None, 'coordinates': None, 'place': None, 'contributors': None, 'is_quote_status': False, 'retweet_count': 2, 'favorite_count': 2, 'favorited': False, 'retweeted': False, 'possibly_sensitive': False, 'lang': 'en'}, created_at=datetime.datetime(2021, 2, 20, 12, 57, 42), id=1363110579435692040, id_str='1363110579435692040', full_text='#Drishyam2 has been the talk of the town !\\n\\nOvertaking #Pulimurugan Kerala Gross is a Herculean task which even #Baahubali2 &amp; #Lucifer failed but I feel #Drishyam2 had a big chance\\n\\nPS: I know Corona Virus but I very well also know wat Brand #Mohanlal can do with Super +ve talk ! https://t.co/EEwVre1aUT', truncated=False, display_text_range=[0, 284], entities={'hashtags': [{'text': 'Drishyam2', 'indices': [0, 10]}, {'text': 'Pulimurugan', 'indices': [55, 67]}, {'text': 'Baahubali2', 'indices': [112, 123]}, {'text': 'Lucifer', 'indices': [130, 138]}, {'text': 'Drishyam2', 'indices': [157, 167]}, {'text': 'Mohanlal', 'indices': [246, 255]}], 'symbols': [], 'user_mentions': [], 'urls': [], 'media': [{'id': 1363110576491278338, 'id_str': '1363110576491278338', 'indices': [285, 308], 'media_url': 'http://pbs.twimg.com/media/Euq92OVXMAI6_il.jpg', 'media_url_https': 'https://pbs.twimg.com/media/Euq92OVXMAI6_il.jpg', 'url': 'https://t.co/EEwVre1aUT', 'display_url': 'pic.twitter.com/EEwVre1aUT', 'expanded_url': 'https://twitter.com/ImUtopian1990/status/1363110579435692040/photo/1', 'type': 'photo', 'sizes': {'thumb': {'w': 150, 'h': 150, 'resize': 'crop'}, 'small': {'w': 282, 'h': 353, 'resize': 'fit'}, 'medium': {'w': 282, 'h': 353, 'resize': 'fit'}, 'large': {'w': 282, 'h': 353, 'resize': 'fit'}}}]}, extended_entities={'media': [{'id': 1363110576491278338, 'id_str': '1363110576491278338', 'indices': [285, 308], 'media_url': 'http://pbs.twimg.com/media/Euq92OVXMAI6_il.jpg', 'media_url_https': 'https://pbs.twimg.com/media/Euq92OVXMAI6_il.jpg', 'url': 'https://t.co/EEwVre1aUT', 'display_url': 'pic.twitter.com/EEwVre1aUT', 'expanded_url': 'https://twitter.com/ImUtopian1990/status/1363110579435692040/photo/1', 'type': 'photo', 'sizes': {'thumb': {'w': 150, 'h': 150, 'resize': 'crop'}, 'small': {'w': 282, 'h': 353, 'resize': 'fit'}, 'medium': {'w': 282, 'h': 353, 'resize': 'fit'}, 'large': {'w': 282, 'h': 353, 'resize': 'fit'}}}]}, metadata={'iso_language_code': 'en', 'result_type': 'recent'}, source='Twitter for Android', source_url='http://twitter.com/download/android', in_reply_to_status_id=None, in_reply_to_status_id_str=None, in_reply_to_user_id=None, in_reply_to_user_id_str=None, in_reply_to_screen_name=None, author=User(_api=<tweepy.api.API object at 0x7faebd623e10>, _json={'id': 1138884626531934208, 'id_str': '1138884626531934208', 'name': 'ImUtopian', 'screen_name': 'ImUtopian1990', 'location': '', 'description': 'Moviebuff / Cricket / Trader / Survivor', 'url': None, 'entities': {'description': {'urls': []}}, 'protected': False, 'followers_count': 106, 'friends_count': 21, 'listed_count': 1, 'created_at': 'Wed Jun 12 19:03:49 +0000 2019', 'favourites_count': 1770, 'utc_offset': None, 'time_zone': None, 'geo_enabled': False, 'verified': False, 'statuses_count': 3851, 'lang': None, 'contributors_enabled': False, 'is_translator': False, 'is_translation_enabled': False, 'profile_background_color': 'F5F8FA', 'profile_background_image_url': None, 'profile_background_image_url_https': None, 'profile_background_tile': False, 'profile_image_url': 'http://pbs.twimg.com/profile_images/1138886397392240640/F1UvcfWr_normal.jpg', 'profile_image_url_https': 'https://pbs.twimg.com/profile_images/1138886397392240640/F1UvcfWr_normal.jpg', 'profile_link_color': '1DA1F2', 'profile_sidebar_border_color': 'C0DEED', 'profile_sidebar_fill_color': 'DDEEF6', 'profile_text_color': '333333', 'profile_use_background_image': True, 'has_extended_profile': False, 'default_profile': True, 'default_profile_image': False, 'following': False, 'follow_request_sent': False, 'notifications': False, 'translator_type': 'none'}, id=1138884626531934208, id_str='1138884626531934208', name='ImUtopian', screen_name='ImUtopian1990', location='', description='Moviebuff / Cricket / Trader / Survivor', url=None, entities={'description': {'urls': []}}, protected=False, followers_count=106, friends_count=21, listed_count=1, created_at=datetime.datetime(2019, 6, 12, 19, 3, 49), favourites_count=1770, utc_offset=None, time_zone=None, geo_enabled=False, verified=False, statuses_count=3851, lang=None, contributors_enabled=False, is_translator=False, is_translation_enabled=False, profile_background_color='F5F8FA', profile_background_image_url=None, profile_background_image_url_https=None, profile_background_tile=False, profile_image_url='http://pbs.twimg.com/profile_images/1138886397392240640/F1UvcfWr_normal.jpg', profile_image_url_https='https://pbs.twimg.com/profile_images/1138886397392240640/F1UvcfWr_normal.jpg', profile_link_color='1DA1F2', profile_sidebar_border_color='C0DEED', profile_sidebar_fill_color='DDEEF6', profile_text_color='333333', profile_use_background_image=True, has_extended_profile=False, default_profile=True, default_profile_image=False, following=False, follow_request_sent=False, notifications=False, translator_type='none'), user=User(_api=<tweepy.api.API object at 0x7faebd623e10>, _json={'id': 1138884626531934208, 'id_str': '1138884626531934208', 'name': 'ImUtopian', 'screen_name': 'ImUtopian1990', 'location': '', 'description': 'Moviebuff / Cricket / Trader / Survivor', 'url': None, 'entities': {'description': {'urls': []}}, 'protected': False, 'followers_count': 106, 'friends_count': 21, 'listed_count': 1, 'created_at': 'Wed Jun 12 19:03:49 +0000 2019', 'favourites_count': 1770, 'utc_offset': None, 'time_zone': None, 'geo_enabled': False, 'verified': False, 'statuses_count': 3851, 'lang': None, 'contributors_enabled': False, 'is_translator': False, 'is_translation_enabled': False, 'profile_background_color': 'F5F8FA', 'profile_background_image_url': None, 'profile_background_image_url_https': None, 'profile_background_tile': False, 'profile_image_url': 'http://pbs.twimg.com/profile_images/1138886397392240640/F1UvcfWr_normal.jpg', 'profile_image_url_https': 'https://pbs.twimg.com/profile_images/1138886397392240640/F1UvcfWr_normal.jpg', 'profile_link_color': '1DA1F2', 'profile_sidebar_border_color': 'C0DEED', 'profile_sidebar_fill_color': 'DDEEF6', 'profile_text_color': '333333', 'profile_use_background_image': True, 'has_extended_profile': False, 'default_profile': True, 'default_profile_image': False, 'following': False, 'follow_request_sent': False, 'notifications': False, 'translator_type': 'none'}, id=1138884626531934208, id_str='1138884626531934208', name='ImUtopian', screen_name='ImUtopian1990', location='', description='Moviebuff / Cricket / Trader / Survivor', url=None, entities={'description': {'urls': []}}, protected=False, followers_count=106, friends_count=21, listed_count=1, created_at=datetime.datetime(2019, 6, 12, 19, 3, 49), favourites_count=1770, utc_offset=None, time_zone=None, geo_enabled=False, verified=False, statuses_count=3851, lang=None, contributors_enabled=False, is_translator=False, is_translation_enabled=False, profile_background_color='F5F8FA', profile_background_image_url=None, profile_background_image_url_https=None, profile_background_tile=False, profile_image_url='http://pbs.twimg.com/profile_images/1138886397392240640/F1UvcfWr_normal.jpg', profile_image_url_https='https://pbs.twimg.com/profile_images/1138886397392240640/F1UvcfWr_normal.jpg', profile_link_color='1DA1F2', profile_sidebar_border_color='C0DEED', profile_sidebar_fill_color='DDEEF6', profile_text_color='333333', profile_use_background_image=True, has_extended_profile=False, default_profile=True, default_profile_image=False, following=False, follow_request_sent=False, notifications=False, translator_type='none'), geo=None, coordinates=None, place=None, contributors=None, is_quote_status=False, retweet_count=2, favorite_count=2, favorited=False, retweeted=False, possibly_sensitive=False, lang='en') \n",
            "\n",
            ".....................................\n",
            "\n",
            "Status(_api=<tweepy.api.API object at 0x7faebd623e10>, _json={'created_at': 'Sat Feb 20 12:57:28 +0000 2021', 'id': 1363110521856290818, 'id_str': '1363110521856290818', 'full_text': '@mhorules @CBCToronto agreed. it would be like calling Polio the \"Europe virus\" or \"white people virus\" or even calling Ebola the \"Africa virus\" this is pure racism plain and simple to call it that and not Covid-19 or Corona Virus.', 'truncated': False, 'display_text_range': [22, 231], 'entities': {'hashtags': [], 'symbols': [], 'user_mentions': [{'screen_name': 'mhorules', 'name': 'Msw Ho', 'id': 1265409887737204736, 'id_str': '1265409887737204736', 'indices': [0, 9]}, {'screen_name': 'CBCToronto', 'name': 'CBC Toronto', 'id': 19000033, 'id_str': '19000033', 'indices': [10, 21]}], 'urls': []}, 'metadata': {'iso_language_code': 'en', 'result_type': 'recent'}, 'source': '<a href=\"https://mobile.twitter.com\" rel=\"nofollow\">Twitter Web App</a>', 'in_reply_to_status_id': 1362883814691905536, 'in_reply_to_status_id_str': '1362883814691905536', 'in_reply_to_user_id': 1265409887737204736, 'in_reply_to_user_id_str': '1265409887737204736', 'in_reply_to_screen_name': 'mhorules', 'user': {'id': 3185808722, 'id_str': '3185808722', 'name': 'Samus Aran', 'screen_name': 'coldskys3', 'location': '', 'description': '', 'url': None, 'entities': {'description': {'urls': []}}, 'protected': False, 'followers_count': 1, 'friends_count': 36, 'listed_count': 0, 'created_at': 'Tue May 05 04:21:46 +0000 2015', 'favourites_count': 77, 'utc_offset': None, 'time_zone': None, 'geo_enabled': False, 'verified': False, 'statuses_count': 59, 'lang': None, 'contributors_enabled': False, 'is_translator': False, 'is_translation_enabled': False, 'profile_background_color': 'C0DEED', 'profile_background_image_url': 'http://abs.twimg.com/images/themes/theme1/bg.png', 'profile_background_image_url_https': 'https://abs.twimg.com/images/themes/theme1/bg.png', 'profile_background_tile': False, 'profile_image_url': 'http://abs.twimg.com/sticky/default_profile_images/default_profile_normal.png', 'profile_image_url_https': 'https://abs.twimg.com/sticky/default_profile_images/default_profile_normal.png', 'profile_link_color': '1DA1F2', 'profile_sidebar_border_color': 'C0DEED', 'profile_sidebar_fill_color': 'DDEEF6', 'profile_text_color': '333333', 'profile_use_background_image': True, 'has_extended_profile': False, 'default_profile': True, 'default_profile_image': True, 'following': False, 'follow_request_sent': False, 'notifications': False, 'translator_type': 'none'}, 'geo': None, 'coordinates': None, 'place': None, 'contributors': None, 'is_quote_status': False, 'retweet_count': 0, 'favorite_count': 0, 'favorited': False, 'retweeted': False, 'lang': 'en'}, created_at=datetime.datetime(2021, 2, 20, 12, 57, 28), id=1363110521856290818, id_str='1363110521856290818', full_text='@mhorules @CBCToronto agreed. it would be like calling Polio the \"Europe virus\" or \"white people virus\" or even calling Ebola the \"Africa virus\" this is pure racism plain and simple to call it that and not Covid-19 or Corona Virus.', truncated=False, display_text_range=[22, 231], entities={'hashtags': [], 'symbols': [], 'user_mentions': [{'screen_name': 'mhorules', 'name': 'Msw Ho', 'id': 1265409887737204736, 'id_str': '1265409887737204736', 'indices': [0, 9]}, {'screen_name': 'CBCToronto', 'name': 'CBC Toronto', 'id': 19000033, 'id_str': '19000033', 'indices': [10, 21]}], 'urls': []}, metadata={'iso_language_code': 'en', 'result_type': 'recent'}, source='Twitter Web App', source_url='https://mobile.twitter.com', in_reply_to_status_id=1362883814691905536, in_reply_to_status_id_str='1362883814691905536', in_reply_to_user_id=1265409887737204736, in_reply_to_user_id_str='1265409887737204736', in_reply_to_screen_name='mhorules', author=User(_api=<tweepy.api.API object at 0x7faebd623e10>, _json={'id': 3185808722, 'id_str': '3185808722', 'name': 'Samus Aran', 'screen_name': 'coldskys3', 'location': '', 'description': '', 'url': None, 'entities': {'description': {'urls': []}}, 'protected': False, 'followers_count': 1, 'friends_count': 36, 'listed_count': 0, 'created_at': 'Tue May 05 04:21:46 +0000 2015', 'favourites_count': 77, 'utc_offset': None, 'time_zone': None, 'geo_enabled': False, 'verified': False, 'statuses_count': 59, 'lang': None, 'contributors_enabled': False, 'is_translator': False, 'is_translation_enabled': False, 'profile_background_color': 'C0DEED', 'profile_background_image_url': 'http://abs.twimg.com/images/themes/theme1/bg.png', 'profile_background_image_url_https': 'https://abs.twimg.com/images/themes/theme1/bg.png', 'profile_background_tile': False, 'profile_image_url': 'http://abs.twimg.com/sticky/default_profile_images/default_profile_normal.png', 'profile_image_url_https': 'https://abs.twimg.com/sticky/default_profile_images/default_profile_normal.png', 'profile_link_color': '1DA1F2', 'profile_sidebar_border_color': 'C0DEED', 'profile_sidebar_fill_color': 'DDEEF6', 'profile_text_color': '333333', 'profile_use_background_image': True, 'has_extended_profile': False, 'default_profile': True, 'default_profile_image': True, 'following': False, 'follow_request_sent': False, 'notifications': False, 'translator_type': 'none'}, id=3185808722, id_str='3185808722', name='Samus Aran', screen_name='coldskys3', location='', description='', url=None, entities={'description': {'urls': []}}, protected=False, followers_count=1, friends_count=36, listed_count=0, created_at=datetime.datetime(2015, 5, 5, 4, 21, 46), favourites_count=77, utc_offset=None, time_zone=None, geo_enabled=False, verified=False, statuses_count=59, lang=None, contributors_enabled=False, is_translator=False, is_translation_enabled=False, profile_background_color='C0DEED', profile_background_image_url='http://abs.twimg.com/images/themes/theme1/bg.png', profile_background_image_url_https='https://abs.twimg.com/images/themes/theme1/bg.png', profile_background_tile=False, profile_image_url='http://abs.twimg.com/sticky/default_profile_images/default_profile_normal.png', profile_image_url_https='https://abs.twimg.com/sticky/default_profile_images/default_profile_normal.png', profile_link_color='1DA1F2', profile_sidebar_border_color='C0DEED', profile_sidebar_fill_color='DDEEF6', profile_text_color='333333', profile_use_background_image=True, has_extended_profile=False, default_profile=True, default_profile_image=True, following=False, follow_request_sent=False, notifications=False, translator_type='none'), user=User(_api=<tweepy.api.API object at 0x7faebd623e10>, _json={'id': 3185808722, 'id_str': '3185808722', 'name': 'Samus Aran', 'screen_name': 'coldskys3', 'location': '', 'description': '', 'url': None, 'entities': {'description': {'urls': []}}, 'protected': False, 'followers_count': 1, 'friends_count': 36, 'listed_count': 0, 'created_at': 'Tue May 05 04:21:46 +0000 2015', 'favourites_count': 77, 'utc_offset': None, 'time_zone': None, 'geo_enabled': False, 'verified': False, 'statuses_count': 59, 'lang': None, 'contributors_enabled': False, 'is_translator': False, 'is_translation_enabled': False, 'profile_background_color': 'C0DEED', 'profile_background_image_url': 'http://abs.twimg.com/images/themes/theme1/bg.png', 'profile_background_image_url_https': 'https://abs.twimg.com/images/themes/theme1/bg.png', 'profile_background_tile': False, 'profile_image_url': 'http://abs.twimg.com/sticky/default_profile_images/default_profile_normal.png', 'profile_image_url_https': 'https://abs.twimg.com/sticky/default_profile_images/default_profile_normal.png', 'profile_link_color': '1DA1F2', 'profile_sidebar_border_color': 'C0DEED', 'profile_sidebar_fill_color': 'DDEEF6', 'profile_text_color': '333333', 'profile_use_background_image': True, 'has_extended_profile': False, 'default_profile': True, 'default_profile_image': True, 'following': False, 'follow_request_sent': False, 'notifications': False, 'translator_type': 'none'}, id=3185808722, id_str='3185808722', name='Samus Aran', screen_name='coldskys3', location='', description='', url=None, entities={'description': {'urls': []}}, protected=False, followers_count=1, friends_count=36, listed_count=0, created_at=datetime.datetime(2015, 5, 5, 4, 21, 46), favourites_count=77, utc_offset=None, time_zone=None, geo_enabled=False, verified=False, statuses_count=59, lang=None, contributors_enabled=False, is_translator=False, is_translation_enabled=False, profile_background_color='C0DEED', profile_background_image_url='http://abs.twimg.com/images/themes/theme1/bg.png', profile_background_image_url_https='https://abs.twimg.com/images/themes/theme1/bg.png', profile_background_tile=False, profile_image_url='http://abs.twimg.com/sticky/default_profile_images/default_profile_normal.png', profile_image_url_https='https://abs.twimg.com/sticky/default_profile_images/default_profile_normal.png', profile_link_color='1DA1F2', profile_sidebar_border_color='C0DEED', profile_sidebar_fill_color='DDEEF6', profile_text_color='333333', profile_use_background_image=True, has_extended_profile=False, default_profile=True, default_profile_image=True, following=False, follow_request_sent=False, notifications=False, translator_type='none'), geo=None, coordinates=None, place=None, contributors=None, is_quote_status=False, retweet_count=0, favorite_count=0, favorited=False, retweeted=False, lang='en') \n",
            "\n",
            ".....................................\n",
            "\n",
            "Status(_api=<tweepy.api.API object at 0x7faebd623e10>, _json={'created_at': 'Sat Feb 20 12:56:35 +0000 2021', 'id': 1363110297955876864, 'id_str': '1363110297955876864', 'full_text': \"Bilihan niyo ako iinom talaga ako 😅 I wanna try drink soju with my friend soon, 👭 I wish this coming July covid'19 is done🙏 course I really want to go in Korea soon, not now because of Corona virus \\U0001f9a0 https://t.co/JFZirL9cxA\", 'truncated': False, 'display_text_range': [0, 199], 'entities': {'hashtags': [], 'symbols': [], 'user_mentions': [], 'urls': [], 'media': [{'id': 1363100283430203399, 'id_str': '1363100283430203399', 'indices': [200, 223], 'media_url': 'http://pbs.twimg.com/media/Euq0fFsXcAcKgEU.jpg', 'media_url_https': 'https://pbs.twimg.com/media/Euq0fFsXcAcKgEU.jpg', 'url': 'https://t.co/JFZirL9cxA', 'display_url': 'pic.twitter.com/JFZirL9cxA', 'expanded_url': 'https://twitter.com/Rymie23/status/1363110297955876864/photo/1', 'type': 'photo', 'sizes': {'thumb': {'w': 150, 'h': 150, 'resize': 'crop'}, 'medium': {'w': 720, 'h': 827, 'resize': 'fit'}, 'large': {'w': 720, 'h': 827, 'resize': 'fit'}, 'small': {'w': 592, 'h': 680, 'resize': 'fit'}}}]}, 'extended_entities': {'media': [{'id': 1363100283430203399, 'id_str': '1363100283430203399', 'indices': [200, 223], 'media_url': 'http://pbs.twimg.com/media/Euq0fFsXcAcKgEU.jpg', 'media_url_https': 'https://pbs.twimg.com/media/Euq0fFsXcAcKgEU.jpg', 'url': 'https://t.co/JFZirL9cxA', 'display_url': 'pic.twitter.com/JFZirL9cxA', 'expanded_url': 'https://twitter.com/Rymie23/status/1363110297955876864/photo/1', 'type': 'photo', 'sizes': {'thumb': {'w': 150, 'h': 150, 'resize': 'crop'}, 'medium': {'w': 720, 'h': 827, 'resize': 'fit'}, 'large': {'w': 720, 'h': 827, 'resize': 'fit'}, 'small': {'w': 592, 'h': 680, 'resize': 'fit'}}}]}, 'metadata': {'iso_language_code': 'en', 'result_type': 'recent'}, 'source': '<a href=\"https://mobile.twitter.com\" rel=\"nofollow\">Twitter Web App</a>', 'in_reply_to_status_id': None, 'in_reply_to_status_id_str': None, 'in_reply_to_user_id': None, 'in_reply_to_user_id_str': None, 'in_reply_to_screen_name': None, 'user': {'id': 1291384778005123073, 'id_str': '1291384778005123073', 'name': '💕🦋', 'screen_name': 'Rymie23', 'location': 'Philippines ', 'description': \"food lover's 🍱🍝🍦🍜\", 'url': None, 'entities': {'description': {'urls': []}}, 'protected': False, 'followers_count': 6, 'friends_count': 61, 'listed_count': 0, 'created_at': 'Thu Aug 06 14:45:22 +0000 2020', 'favourites_count': 821, 'utc_offset': None, 'time_zone': None, 'geo_enabled': True, 'verified': False, 'statuses_count': 269, 'lang': None, 'contributors_enabled': False, 'is_translator': False, 'is_translation_enabled': False, 'profile_background_color': 'F5F8FA', 'profile_background_image_url': None, 'profile_background_image_url_https': None, 'profile_background_tile': False, 'profile_image_url': 'http://pbs.twimg.com/profile_images/1362379558310313987/r7MrES07_normal.jpg', 'profile_image_url_https': 'https://pbs.twimg.com/profile_images/1362379558310313987/r7MrES07_normal.jpg', 'profile_banner_url': 'https://pbs.twimg.com/profile_banners/1291384778005123073/1613651671', 'profile_link_color': '1DA1F2', 'profile_sidebar_border_color': 'C0DEED', 'profile_sidebar_fill_color': 'DDEEF6', 'profile_text_color': '333333', 'profile_use_background_image': True, 'has_extended_profile': True, 'default_profile': True, 'default_profile_image': False, 'following': False, 'follow_request_sent': False, 'notifications': False, 'translator_type': 'none'}, 'geo': None, 'coordinates': None, 'place': None, 'contributors': None, 'is_quote_status': False, 'retweet_count': 0, 'favorite_count': 0, 'favorited': False, 'retweeted': False, 'possibly_sensitive': False, 'lang': 'en'}, created_at=datetime.datetime(2021, 2, 20, 12, 56, 35), id=1363110297955876864, id_str='1363110297955876864', full_text=\"Bilihan niyo ako iinom talaga ako 😅 I wanna try drink soju with my friend soon, 👭 I wish this coming July covid'19 is done🙏 course I really want to go in Korea soon, not now because of Corona virus \\U0001f9a0 https://t.co/JFZirL9cxA\", truncated=False, display_text_range=[0, 199], entities={'hashtags': [], 'symbols': [], 'user_mentions': [], 'urls': [], 'media': [{'id': 1363100283430203399, 'id_str': '1363100283430203399', 'indices': [200, 223], 'media_url': 'http://pbs.twimg.com/media/Euq0fFsXcAcKgEU.jpg', 'media_url_https': 'https://pbs.twimg.com/media/Euq0fFsXcAcKgEU.jpg', 'url': 'https://t.co/JFZirL9cxA', 'display_url': 'pic.twitter.com/JFZirL9cxA', 'expanded_url': 'https://twitter.com/Rymie23/status/1363110297955876864/photo/1', 'type': 'photo', 'sizes': {'thumb': {'w': 150, 'h': 150, 'resize': 'crop'}, 'medium': {'w': 720, 'h': 827, 'resize': 'fit'}, 'large': {'w': 720, 'h': 827, 'resize': 'fit'}, 'small': {'w': 592, 'h': 680, 'resize': 'fit'}}}]}, extended_entities={'media': [{'id': 1363100283430203399, 'id_str': '1363100283430203399', 'indices': [200, 223], 'media_url': 'http://pbs.twimg.com/media/Euq0fFsXcAcKgEU.jpg', 'media_url_https': 'https://pbs.twimg.com/media/Euq0fFsXcAcKgEU.jpg', 'url': 'https://t.co/JFZirL9cxA', 'display_url': 'pic.twitter.com/JFZirL9cxA', 'expanded_url': 'https://twitter.com/Rymie23/status/1363110297955876864/photo/1', 'type': 'photo', 'sizes': {'thumb': {'w': 150, 'h': 150, 'resize': 'crop'}, 'medium': {'w': 720, 'h': 827, 'resize': 'fit'}, 'large': {'w': 720, 'h': 827, 'resize': 'fit'}, 'small': {'w': 592, 'h': 680, 'resize': 'fit'}}}]}, metadata={'iso_language_code': 'en', 'result_type': 'recent'}, source='Twitter Web App', source_url='https://mobile.twitter.com', in_reply_to_status_id=None, in_reply_to_status_id_str=None, in_reply_to_user_id=None, in_reply_to_user_id_str=None, in_reply_to_screen_name=None, author=User(_api=<tweepy.api.API object at 0x7faebd623e10>, _json={'id': 1291384778005123073, 'id_str': '1291384778005123073', 'name': '💕🦋', 'screen_name': 'Rymie23', 'location': 'Philippines ', 'description': \"food lover's 🍱🍝🍦🍜\", 'url': None, 'entities': {'description': {'urls': []}}, 'protected': False, 'followers_count': 6, 'friends_count': 61, 'listed_count': 0, 'created_at': 'Thu Aug 06 14:45:22 +0000 2020', 'favourites_count': 821, 'utc_offset': None, 'time_zone': None, 'geo_enabled': True, 'verified': False, 'statuses_count': 269, 'lang': None, 'contributors_enabled': False, 'is_translator': False, 'is_translation_enabled': False, 'profile_background_color': 'F5F8FA', 'profile_background_image_url': None, 'profile_background_image_url_https': None, 'profile_background_tile': False, 'profile_image_url': 'http://pbs.twimg.com/profile_images/1362379558310313987/r7MrES07_normal.jpg', 'profile_image_url_https': 'https://pbs.twimg.com/profile_images/1362379558310313987/r7MrES07_normal.jpg', 'profile_banner_url': 'https://pbs.twimg.com/profile_banners/1291384778005123073/1613651671', 'profile_link_color': '1DA1F2', 'profile_sidebar_border_color': 'C0DEED', 'profile_sidebar_fill_color': 'DDEEF6', 'profile_text_color': '333333', 'profile_use_background_image': True, 'has_extended_profile': True, 'default_profile': True, 'default_profile_image': False, 'following': False, 'follow_request_sent': False, 'notifications': False, 'translator_type': 'none'}, id=1291384778005123073, id_str='1291384778005123073', name='💕🦋', screen_name='Rymie23', location='Philippines ', description=\"food lover's 🍱🍝🍦🍜\", url=None, entities={'description': {'urls': []}}, protected=False, followers_count=6, friends_count=61, listed_count=0, created_at=datetime.datetime(2020, 8, 6, 14, 45, 22), favourites_count=821, utc_offset=None, time_zone=None, geo_enabled=True, verified=False, statuses_count=269, lang=None, contributors_enabled=False, is_translator=False, is_translation_enabled=False, profile_background_color='F5F8FA', profile_background_image_url=None, profile_background_image_url_https=None, profile_background_tile=False, profile_image_url='http://pbs.twimg.com/profile_images/1362379558310313987/r7MrES07_normal.jpg', profile_image_url_https='https://pbs.twimg.com/profile_images/1362379558310313987/r7MrES07_normal.jpg', profile_banner_url='https://pbs.twimg.com/profile_banners/1291384778005123073/1613651671', profile_link_color='1DA1F2', profile_sidebar_border_color='C0DEED', profile_sidebar_fill_color='DDEEF6', profile_text_color='333333', profile_use_background_image=True, has_extended_profile=True, default_profile=True, default_profile_image=False, following=False, follow_request_sent=False, notifications=False, translator_type='none'), user=User(_api=<tweepy.api.API object at 0x7faebd623e10>, _json={'id': 1291384778005123073, 'id_str': '1291384778005123073', 'name': '💕🦋', 'screen_name': 'Rymie23', 'location': 'Philippines ', 'description': \"food lover's 🍱🍝🍦🍜\", 'url': None, 'entities': {'description': {'urls': []}}, 'protected': False, 'followers_count': 6, 'friends_count': 61, 'listed_count': 0, 'created_at': 'Thu Aug 06 14:45:22 +0000 2020', 'favourites_count': 821, 'utc_offset': None, 'time_zone': None, 'geo_enabled': True, 'verified': False, 'statuses_count': 269, 'lang': None, 'contributors_enabled': False, 'is_translator': False, 'is_translation_enabled': False, 'profile_background_color': 'F5F8FA', 'profile_background_image_url': None, 'profile_background_image_url_https': None, 'profile_background_tile': False, 'profile_image_url': 'http://pbs.twimg.com/profile_images/1362379558310313987/r7MrES07_normal.jpg', 'profile_image_url_https': 'https://pbs.twimg.com/profile_images/1362379558310313987/r7MrES07_normal.jpg', 'profile_banner_url': 'https://pbs.twimg.com/profile_banners/1291384778005123073/1613651671', 'profile_link_color': '1DA1F2', 'profile_sidebar_border_color': 'C0DEED', 'profile_sidebar_fill_color': 'DDEEF6', 'profile_text_color': '333333', 'profile_use_background_image': True, 'has_extended_profile': True, 'default_profile': True, 'default_profile_image': False, 'following': False, 'follow_request_sent': False, 'notifications': False, 'translator_type': 'none'}, id=1291384778005123073, id_str='1291384778005123073', name='💕🦋', screen_name='Rymie23', location='Philippines ', description=\"food lover's 🍱🍝🍦🍜\", url=None, entities={'description': {'urls': []}}, protected=False, followers_count=6, friends_count=61, listed_count=0, created_at=datetime.datetime(2020, 8, 6, 14, 45, 22), favourites_count=821, utc_offset=None, time_zone=None, geo_enabled=True, verified=False, statuses_count=269, lang=None, contributors_enabled=False, is_translator=False, is_translation_enabled=False, profile_background_color='F5F8FA', profile_background_image_url=None, profile_background_image_url_https=None, profile_background_tile=False, profile_image_url='http://pbs.twimg.com/profile_images/1362379558310313987/r7MrES07_normal.jpg', profile_image_url_https='https://pbs.twimg.com/profile_images/1362379558310313987/r7MrES07_normal.jpg', profile_banner_url='https://pbs.twimg.com/profile_banners/1291384778005123073/1613651671', profile_link_color='1DA1F2', profile_sidebar_border_color='C0DEED', profile_sidebar_fill_color='DDEEF6', profile_text_color='333333', profile_use_background_image=True, has_extended_profile=True, default_profile=True, default_profile_image=False, following=False, follow_request_sent=False, notifications=False, translator_type='none'), geo=None, coordinates=None, place=None, contributors=None, is_quote_status=False, retweet_count=0, favorite_count=0, favorited=False, retweeted=False, possibly_sensitive=False, lang='en') \n",
            "\n",
            ".....................................\n",
            "\n",
            "Status(_api=<tweepy.api.API object at 0x7faebd623e10>, _json={'created_at': 'Sat Feb 20 12:56:06 +0000 2021', 'id': 1363110177654906883, 'id_str': '1363110177654906883', 'full_text': '@Shafqat_Mahmood Please extend the date of SSC and Hssc annual examination because of Corona virus students have no preparation for exams', 'truncated': False, 'display_text_range': [17, 137], 'entities': {'hashtags': [], 'symbols': [], 'user_mentions': [{'screen_name': 'Shafqat_Mahmood', 'name': 'Shafqat Mahmood', 'id': 440662588, 'id_str': '440662588', 'indices': [0, 16]}], 'urls': []}, 'metadata': {'iso_language_code': 'en', 'result_type': 'recent'}, 'source': '<a href=\"https://mobile.twitter.com\" rel=\"nofollow\">Twitter Web App</a>', 'in_reply_to_status_id': 1362987911591849986, 'in_reply_to_status_id_str': '1362987911591849986', 'in_reply_to_user_id': 440662588, 'in_reply_to_user_id_str': '440662588', 'in_reply_to_screen_name': 'Shafqat_Mahmood', 'user': {'id': 1362330583204995073, 'id_str': '1362330583204995073', 'name': 'Hira abid rajpoot', 'screen_name': 'Hiraabidrajpoo1', 'location': '', 'description': 'I am muslim', 'url': None, 'entities': {'description': {'urls': []}}, 'protected': False, 'followers_count': 0, 'friends_count': 1, 'listed_count': 0, 'created_at': 'Thu Feb 18 09:18:30 +0000 2021', 'favourites_count': 3, 'utc_offset': None, 'time_zone': None, 'geo_enabled': False, 'verified': False, 'statuses_count': 5, 'lang': None, 'contributors_enabled': False, 'is_translator': False, 'is_translation_enabled': False, 'profile_background_color': 'F5F8FA', 'profile_background_image_url': None, 'profile_background_image_url_https': None, 'profile_background_tile': False, 'profile_image_url': 'http://abs.twimg.com/sticky/default_profile_images/default_profile_normal.png', 'profile_image_url_https': 'https://abs.twimg.com/sticky/default_profile_images/default_profile_normal.png', 'profile_link_color': '1DA1F2', 'profile_sidebar_border_color': 'C0DEED', 'profile_sidebar_fill_color': 'DDEEF6', 'profile_text_color': '333333', 'profile_use_background_image': True, 'has_extended_profile': True, 'default_profile': True, 'default_profile_image': True, 'following': False, 'follow_request_sent': False, 'notifications': False, 'translator_type': 'none'}, 'geo': None, 'coordinates': None, 'place': None, 'contributors': None, 'is_quote_status': False, 'retweet_count': 0, 'favorite_count': 0, 'favorited': False, 'retweeted': False, 'lang': 'en'}, created_at=datetime.datetime(2021, 2, 20, 12, 56, 6), id=1363110177654906883, id_str='1363110177654906883', full_text='@Shafqat_Mahmood Please extend the date of SSC and Hssc annual examination because of Corona virus students have no preparation for exams', truncated=False, display_text_range=[17, 137], entities={'hashtags': [], 'symbols': [], 'user_mentions': [{'screen_name': 'Shafqat_Mahmood', 'name': 'Shafqat Mahmood', 'id': 440662588, 'id_str': '440662588', 'indices': [0, 16]}], 'urls': []}, metadata={'iso_language_code': 'en', 'result_type': 'recent'}, source='Twitter Web App', source_url='https://mobile.twitter.com', in_reply_to_status_id=1362987911591849986, in_reply_to_status_id_str='1362987911591849986', in_reply_to_user_id=440662588, in_reply_to_user_id_str='440662588', in_reply_to_screen_name='Shafqat_Mahmood', author=User(_api=<tweepy.api.API object at 0x7faebd623e10>, _json={'id': 1362330583204995073, 'id_str': '1362330583204995073', 'name': 'Hira abid rajpoot', 'screen_name': 'Hiraabidrajpoo1', 'location': '', 'description': 'I am muslim', 'url': None, 'entities': {'description': {'urls': []}}, 'protected': False, 'followers_count': 0, 'friends_count': 1, 'listed_count': 0, 'created_at': 'Thu Feb 18 09:18:30 +0000 2021', 'favourites_count': 3, 'utc_offset': None, 'time_zone': None, 'geo_enabled': False, 'verified': False, 'statuses_count': 5, 'lang': None, 'contributors_enabled': False, 'is_translator': False, 'is_translation_enabled': False, 'profile_background_color': 'F5F8FA', 'profile_background_image_url': None, 'profile_background_image_url_https': None, 'profile_background_tile': False, 'profile_image_url': 'http://abs.twimg.com/sticky/default_profile_images/default_profile_normal.png', 'profile_image_url_https': 'https://abs.twimg.com/sticky/default_profile_images/default_profile_normal.png', 'profile_link_color': '1DA1F2', 'profile_sidebar_border_color': 'C0DEED', 'profile_sidebar_fill_color': 'DDEEF6', 'profile_text_color': '333333', 'profile_use_background_image': True, 'has_extended_profile': True, 'default_profile': True, 'default_profile_image': True, 'following': False, 'follow_request_sent': False, 'notifications': False, 'translator_type': 'none'}, id=1362330583204995073, id_str='1362330583204995073', name='Hira abid rajpoot', screen_name='Hiraabidrajpoo1', location='', description='I am muslim', url=None, entities={'description': {'urls': []}}, protected=False, followers_count=0, friends_count=1, listed_count=0, created_at=datetime.datetime(2021, 2, 18, 9, 18, 30), favourites_count=3, utc_offset=None, time_zone=None, geo_enabled=False, verified=False, statuses_count=5, lang=None, contributors_enabled=False, is_translator=False, is_translation_enabled=False, profile_background_color='F5F8FA', profile_background_image_url=None, profile_background_image_url_https=None, profile_background_tile=False, profile_image_url='http://abs.twimg.com/sticky/default_profile_images/default_profile_normal.png', profile_image_url_https='https://abs.twimg.com/sticky/default_profile_images/default_profile_normal.png', profile_link_color='1DA1F2', profile_sidebar_border_color='C0DEED', profile_sidebar_fill_color='DDEEF6', profile_text_color='333333', profile_use_background_image=True, has_extended_profile=True, default_profile=True, default_profile_image=True, following=False, follow_request_sent=False, notifications=False, translator_type='none'), user=User(_api=<tweepy.api.API object at 0x7faebd623e10>, _json={'id': 1362330583204995073, 'id_str': '1362330583204995073', 'name': 'Hira abid rajpoot', 'screen_name': 'Hiraabidrajpoo1', 'location': '', 'description': 'I am muslim', 'url': None, 'entities': {'description': {'urls': []}}, 'protected': False, 'followers_count': 0, 'friends_count': 1, 'listed_count': 0, 'created_at': 'Thu Feb 18 09:18:30 +0000 2021', 'favourites_count': 3, 'utc_offset': None, 'time_zone': None, 'geo_enabled': False, 'verified': False, 'statuses_count': 5, 'lang': None, 'contributors_enabled': False, 'is_translator': False, 'is_translation_enabled': False, 'profile_background_color': 'F5F8FA', 'profile_background_image_url': None, 'profile_background_image_url_https': None, 'profile_background_tile': False, 'profile_image_url': 'http://abs.twimg.com/sticky/default_profile_images/default_profile_normal.png', 'profile_image_url_https': 'https://abs.twimg.com/sticky/default_profile_images/default_profile_normal.png', 'profile_link_color': '1DA1F2', 'profile_sidebar_border_color': 'C0DEED', 'profile_sidebar_fill_color': 'DDEEF6', 'profile_text_color': '333333', 'profile_use_background_image': True, 'has_extended_profile': True, 'default_profile': True, 'default_profile_image': True, 'following': False, 'follow_request_sent': False, 'notifications': False, 'translator_type': 'none'}, id=1362330583204995073, id_str='1362330583204995073', name='Hira abid rajpoot', screen_name='Hiraabidrajpoo1', location='', description='I am muslim', url=None, entities={'description': {'urls': []}}, protected=False, followers_count=0, friends_count=1, listed_count=0, created_at=datetime.datetime(2021, 2, 18, 9, 18, 30), favourites_count=3, utc_offset=None, time_zone=None, geo_enabled=False, verified=False, statuses_count=5, lang=None, contributors_enabled=False, is_translator=False, is_translation_enabled=False, profile_background_color='F5F8FA', profile_background_image_url=None, profile_background_image_url_https=None, profile_background_tile=False, profile_image_url='http://abs.twimg.com/sticky/default_profile_images/default_profile_normal.png', profile_image_url_https='https://abs.twimg.com/sticky/default_profile_images/default_profile_normal.png', profile_link_color='1DA1F2', profile_sidebar_border_color='C0DEED', profile_sidebar_fill_color='DDEEF6', profile_text_color='333333', profile_use_background_image=True, has_extended_profile=True, default_profile=True, default_profile_image=True, following=False, follow_request_sent=False, notifications=False, translator_type='none'), geo=None, coordinates=None, place=None, contributors=None, is_quote_status=False, retweet_count=0, favorite_count=0, favorited=False, retweeted=False, lang='en') \n",
            "\n",
            ".....................................\n",
            "\n"
          ],
          "name": "stdout"
        }
      ]
    },
    {
      "cell_type": "markdown",
      "metadata": {
        "id": "Yi61BOpJgoo5"
      },
      "source": [
        "## ***Get the tweets and some Attributes***"
      ]
    },
    {
      "cell_type": "code",
      "metadata": {
        "colab": {
          "base_uri": "https://localhost:8080/"
        },
        "id": "4JVv80OPgPbB",
        "outputId": "e609af06-5fcd-47c5-8986-0005cfc35966"
      },
      "source": [
        "df = pd.DataFrame(columns = ['Tweets' , 'User' , 'User_statuses_count' , \r\n",
        "                            'user_followers' , 'User_location' , 'User_verified' ,\r\n",
        "                            'fav_count' , 'rt_count' , 'tweet_date'] )\r\n",
        "print(df)\r\n",
        "# print(df.shape)"
      ],
      "execution_count": null,
      "outputs": [
        {
          "output_type": "stream",
          "text": [
            "Empty DataFrame\n",
            "Columns: [Tweets, User, User_statuses_count, user_followers, User_location, User_verified, fav_count, rt_count, tweet_date]\n",
            "Index: []\n"
          ],
          "name": "stdout"
        }
      ]
    },
    {
      "cell_type": "code",
      "metadata": {
        "id": "MGjIiZ1Tgz_n"
      },
      "source": [
        "def stream(data, file_name):\r\n",
        "    i = 0\r\n",
        "    for tweet in tweepy.Cursor(api.search, q=data, count=100, lang='en').items():\r\n",
        "        print(i, end='\\r')\r\n",
        "        df.loc[i, 'Tweets'] = tweet.text\r\n",
        "        df.loc[i, 'User'] = tweet.user.name\r\n",
        "        df.loc[i, 'User_statuses_count'] = tweet.user.statuses_count\r\n",
        "        df.loc[i, 'user_followers'] = tweet.user.followers_count\r\n",
        "        df.loc[i, 'User_location'] = tweet.user.location\r\n",
        "        df.loc[i, 'User_verified'] = tweet.user.verified\r\n",
        "        df.loc[i, 'fav_count'] = tweet.favorite_count\r\n",
        "        df.loc[i, 'rt_count'] = tweet.retweet_count\r\n",
        "        df.loc[i, 'tweet_date'] = tweet.created_at\r\n",
        "        df.to_excel('{}.xlsx'.format(file_name))\r\n",
        "        i = i+1\r\n",
        "        if i == 1000:\r\n",
        "            break\r\n",
        "        else:\r\n",
        "            pass"
      ],
      "execution_count": null,
      "outputs": []
    },
    {
      "cell_type": "code",
      "metadata": {
        "colab": {
          "base_uri": "https://localhost:8080/"
        },
        "id": "GKoaqfdahC7t",
        "outputId": "a2b10ea5-85b8-4061-c2d7-8c733ef3a61e"
      },
      "source": [
        "stream(data=[\"corona virus\"] , file_name='my_tweets')"
      ],
      "execution_count": null,
      "outputs": [
        {
          "output_type": "stream",
          "text": [
            ""
          ],
          "name": "stdout"
        }
      ]
    },
    {
      "cell_type": "code",
      "metadata": {
        "colab": {
          "base_uri": "https://localhost:8080/",
          "height": 289
        },
        "id": "c_Ow6C8yhjS5",
        "outputId": "c61114b1-0c4e-4b84-dc7b-2d69bccb4f47"
      },
      "source": [
        "df.head()"
      ],
      "execution_count": null,
      "outputs": [
        {
          "output_type": "execute_result",
          "data": {
            "text/html": [
              "<div>\n",
              "<style scoped>\n",
              "    .dataframe tbody tr th:only-of-type {\n",
              "        vertical-align: middle;\n",
              "    }\n",
              "\n",
              "    .dataframe tbody tr th {\n",
              "        vertical-align: top;\n",
              "    }\n",
              "\n",
              "    .dataframe thead th {\n",
              "        text-align: right;\n",
              "    }\n",
              "</style>\n",
              "<table border=\"1\" class=\"dataframe\">\n",
              "  <thead>\n",
              "    <tr style=\"text-align: right;\">\n",
              "      <th></th>\n",
              "      <th>Tweets</th>\n",
              "      <th>User</th>\n",
              "      <th>User_statuses_count</th>\n",
              "      <th>user_followers</th>\n",
              "      <th>User_location</th>\n",
              "      <th>User_verified</th>\n",
              "      <th>fav_count</th>\n",
              "      <th>rt_count</th>\n",
              "      <th>tweet_date</th>\n",
              "    </tr>\n",
              "  </thead>\n",
              "  <tbody>\n",
              "    <tr>\n",
              "      <th>0</th>\n",
              "      <td>RT @nhsrcofficial: If you or someone in your f...</td>\n",
              "      <td>Zeenat Talpur</td>\n",
              "      <td>103272</td>\n",
              "      <td>1517</td>\n",
              "      <td></td>\n",
              "      <td>False</td>\n",
              "      <td>0</td>\n",
              "      <td>264</td>\n",
              "      <td>2021-02-20 13:01:13</td>\n",
              "    </tr>\n",
              "    <tr>\n",
              "      <th>1</th>\n",
              "      <td>RT @anistonism: remember when the morning show...</td>\n",
              "      <td>Federico</td>\n",
              "      <td>18407</td>\n",
              "      <td>256</td>\n",
              "      <td>Italia</td>\n",
              "      <td>False</td>\n",
              "      <td>0</td>\n",
              "      <td>25</td>\n",
              "      <td>2021-02-20 13:00:37</td>\n",
              "    </tr>\n",
              "    <tr>\n",
              "      <th>2</th>\n",
              "      <td>@G2Pengu We all know that Corona Virus, Trump,...</td>\n",
              "      <td>h3nder</td>\n",
              "      <td>8007</td>\n",
              "      <td>25</td>\n",
              "      <td></td>\n",
              "      <td>False</td>\n",
              "      <td>0</td>\n",
              "      <td>0</td>\n",
              "      <td>2021-02-20 13:00:35</td>\n",
              "    </tr>\n",
              "    <tr>\n",
              "      <th>3</th>\n",
              "      <td>@GregClinker @NHSActivistRN The needed percent...</td>\n",
              "      <td>Lars F. Jensen</td>\n",
              "      <td>25583</td>\n",
              "      <td>1074</td>\n",
              "      <td>Danmark</td>\n",
              "      <td>False</td>\n",
              "      <td>0</td>\n",
              "      <td>0</td>\n",
              "      <td>2021-02-20 13:00:25</td>\n",
              "    </tr>\n",
              "    <tr>\n",
              "      <th>4</th>\n",
              "      <td>RT @HousingITguy: Many countries already have ...</td>\n",
              "      <td>Ｔｏｎｙ Ｓｍｉｔｈ ＡＣＩＨ                     #SocialHou...</td>\n",
              "      <td>128367</td>\n",
              "      <td>17125</td>\n",
              "      <td>North West UK</td>\n",
              "      <td>False</td>\n",
              "      <td>0</td>\n",
              "      <td>3</td>\n",
              "      <td>2021-02-20 13:00:07</td>\n",
              "    </tr>\n",
              "  </tbody>\n",
              "</table>\n",
              "</div>"
            ],
            "text/plain": [
              "                                              Tweets  ...           tweet_date\n",
              "0  RT @nhsrcofficial: If you or someone in your f...  ...  2021-02-20 13:01:13\n",
              "1  RT @anistonism: remember when the morning show...  ...  2021-02-20 13:00:37\n",
              "2  @G2Pengu We all know that Corona Virus, Trump,...  ...  2021-02-20 13:00:35\n",
              "3  @GregClinker @NHSActivistRN The needed percent...  ...  2021-02-20 13:00:25\n",
              "4  RT @HousingITguy: Many countries already have ...  ...  2021-02-20 13:00:07\n",
              "\n",
              "[5 rows x 9 columns]"
            ]
          },
          "metadata": {
            "tags": []
          },
          "execution_count": 11
        }
      ]
    },
    {
      "cell_type": "code",
      "metadata": {
        "colab": {
          "base_uri": "https://localhost:8080/"
        },
        "id": "lER38sSnihsd",
        "outputId": "67ba826c-941c-4d14-8764-8622c9899696"
      },
      "source": [
        "!pip install textblob"
      ],
      "execution_count": null,
      "outputs": [
        {
          "output_type": "stream",
          "text": [
            "Requirement already satisfied: textblob in /usr/local/lib/python3.6/dist-packages (0.15.3)\n",
            "Requirement already satisfied: nltk>=3.1 in /usr/local/lib/python3.6/dist-packages (from textblob) (3.2.5)\n",
            "Requirement already satisfied: six in /usr/local/lib/python3.6/dist-packages (from nltk>=3.1->textblob) (1.15.0)\n"
          ],
          "name": "stdout"
        }
      ]
    },
    {
      "cell_type": "code",
      "metadata": {
        "id": "hZAyg4yBinzW"
      },
      "source": [
        "from textblob import TextBlob"
      ],
      "execution_count": null,
      "outputs": []
    },
    {
      "cell_type": "code",
      "metadata": {
        "id": "CVhPGxODiveE"
      },
      "source": [
        "import re\r\n",
        "def clean_tweet(tweet):\r\n",
        "    return ' '.join(re.sub('(@[A-Za-z0-9]+)|([^0-9A-Za-z \\t])|(\\w+:\\/\\/\\S+)', ' ', tweet).split())"
      ],
      "execution_count": null,
      "outputs": []
    },
    {
      "cell_type": "code",
      "metadata": {
        "id": "TRnL6bX0i4m1"
      },
      "source": [
        "def analyze_sentiment(tweet):\r\n",
        "    analysis = TextBlob(tweet)\r\n",
        "    if analysis.sentiment.polarity > 0:\r\n",
        "        return 'Positive'\r\n",
        "    elif analysis.sentiment.polarity == 0:\r\n",
        "        return 'Neutral'\r\n",
        "    else:\r\n",
        "        return 'Negative'"
      ],
      "execution_count": null,
      "outputs": []
    },
    {
      "cell_type": "code",
      "metadata": {
        "id": "MUW9LtQLnlUA"
      },
      "source": [
        "df['clean_tweet'] = df['Tweets'].apply(lambda x : clean_tweet(x))"
      ],
      "execution_count": null,
      "outputs": []
    },
    {
      "cell_type": "code",
      "metadata": {
        "colab": {
          "base_uri": "https://localhost:8080/",
          "height": 510
        },
        "id": "e1IHrWkUnuoz",
        "outputId": "a07f6006-aaab-48e6-fb0b-b144512f1a4f"
      },
      "source": [
        "df.head()"
      ],
      "execution_count": null,
      "outputs": [
        {
          "output_type": "execute_result",
          "data": {
            "text/html": [
              "<div>\n",
              "<style scoped>\n",
              "    .dataframe tbody tr th:only-of-type {\n",
              "        vertical-align: middle;\n",
              "    }\n",
              "\n",
              "    .dataframe tbody tr th {\n",
              "        vertical-align: top;\n",
              "    }\n",
              "\n",
              "    .dataframe thead th {\n",
              "        text-align: right;\n",
              "    }\n",
              "</style>\n",
              "<table border=\"1\" class=\"dataframe\">\n",
              "  <thead>\n",
              "    <tr style=\"text-align: right;\">\n",
              "      <th></th>\n",
              "      <th>Tweets</th>\n",
              "      <th>User</th>\n",
              "      <th>User_statuses_count</th>\n",
              "      <th>user_followers</th>\n",
              "      <th>User_location</th>\n",
              "      <th>User_verified</th>\n",
              "      <th>fav_count</th>\n",
              "      <th>rt_count</th>\n",
              "      <th>tweet_date</th>\n",
              "      <th>clean_tweet</th>\n",
              "    </tr>\n",
              "  </thead>\n",
              "  <tbody>\n",
              "    <tr>\n",
              "      <th>0</th>\n",
              "      <td>RT @nhsrcofficial: If you or someone in your f...</td>\n",
              "      <td>Zeenat Talpur</td>\n",
              "      <td>103272</td>\n",
              "      <td>1517</td>\n",
              "      <td></td>\n",
              "      <td>False</td>\n",
              "      <td>0</td>\n",
              "      <td>264</td>\n",
              "      <td>2021-02-20 13:01:13</td>\n",
              "      <td>RT If you or someone in your family suspects t...</td>\n",
              "    </tr>\n",
              "    <tr>\n",
              "      <th>1</th>\n",
              "      <td>RT @anistonism: remember when the morning show...</td>\n",
              "      <td>Federico</td>\n",
              "      <td>18407</td>\n",
              "      <td>256</td>\n",
              "      <td>Italia</td>\n",
              "      <td>False</td>\n",
              "      <td>0</td>\n",
              "      <td>25</td>\n",
              "      <td>2021-02-20 13:00:37</td>\n",
              "      <td>RT remember when the morning show predicted th...</td>\n",
              "    </tr>\n",
              "    <tr>\n",
              "      <th>2</th>\n",
              "      <td>@G2Pengu We all know that Corona Virus, Trump,...</td>\n",
              "      <td>h3nder</td>\n",
              "      <td>8007</td>\n",
              "      <td>25</td>\n",
              "      <td></td>\n",
              "      <td>False</td>\n",
              "      <td>0</td>\n",
              "      <td>0</td>\n",
              "      <td>2021-02-20 13:00:35</td>\n",
              "      <td>We all know that Corona Virus Trump Biden and ...</td>\n",
              "    </tr>\n",
              "    <tr>\n",
              "      <th>3</th>\n",
              "      <td>@GregClinker @NHSActivistRN The needed percent...</td>\n",
              "      <td>Lars F. Jensen</td>\n",
              "      <td>25583</td>\n",
              "      <td>1074</td>\n",
              "      <td>Danmark</td>\n",
              "      <td>False</td>\n",
              "      <td>0</td>\n",
              "      <td>0</td>\n",
              "      <td>2021-02-20 13:00:25</td>\n",
              "      <td>The needed percentage depends a lot on 1 the e...</td>\n",
              "    </tr>\n",
              "    <tr>\n",
              "      <th>4</th>\n",
              "      <td>RT @HousingITguy: Many countries already have ...</td>\n",
              "      <td>Ｔｏｎｙ Ｓｍｉｔｈ ＡＣＩＨ                     #SocialHou...</td>\n",
              "      <td>128367</td>\n",
              "      <td>17125</td>\n",
              "      <td>North West UK</td>\n",
              "      <td>False</td>\n",
              "      <td>0</td>\n",
              "      <td>3</td>\n",
              "      <td>2021-02-20 13:00:07</td>\n",
              "      <td>RT Many countries already have a successful Co...</td>\n",
              "    </tr>\n",
              "  </tbody>\n",
              "</table>\n",
              "</div>"
            ],
            "text/plain": [
              "                                              Tweets  ...                                        clean_tweet\n",
              "0  RT @nhsrcofficial: If you or someone in your f...  ...  RT If you or someone in your family suspects t...\n",
              "1  RT @anistonism: remember when the morning show...  ...  RT remember when the morning show predicted th...\n",
              "2  @G2Pengu We all know that Corona Virus, Trump,...  ...  We all know that Corona Virus Trump Biden and ...\n",
              "3  @GregClinker @NHSActivistRN The needed percent...  ...  The needed percentage depends a lot on 1 the e...\n",
              "4  RT @HousingITguy: Many countries already have ...  ...  RT Many countries already have a successful Co...\n",
              "\n",
              "[5 rows x 10 columns]"
            ]
          },
          "metadata": {
            "tags": []
          },
          "execution_count": 19
        }
      ]
    },
    {
      "cell_type": "code",
      "metadata": {
        "colab": {
          "base_uri": "https://localhost:8080/",
          "height": 510
        },
        "id": "tqyMAfBlnyFy",
        "outputId": "6c70ea84-4a4c-4990-99ea-6fdb4adedaaa"
      },
      "source": [
        "df['Sentiment'] = df['clean_tweet'].apply(lambda x : analyze_sentiment(x) )\r\n",
        "df.head()"
      ],
      "execution_count": null,
      "outputs": [
        {
          "output_type": "execute_result",
          "data": {
            "text/html": [
              "<div>\n",
              "<style scoped>\n",
              "    .dataframe tbody tr th:only-of-type {\n",
              "        vertical-align: middle;\n",
              "    }\n",
              "\n",
              "    .dataframe tbody tr th {\n",
              "        vertical-align: top;\n",
              "    }\n",
              "\n",
              "    .dataframe thead th {\n",
              "        text-align: right;\n",
              "    }\n",
              "</style>\n",
              "<table border=\"1\" class=\"dataframe\">\n",
              "  <thead>\n",
              "    <tr style=\"text-align: right;\">\n",
              "      <th></th>\n",
              "      <th>Tweets</th>\n",
              "      <th>User</th>\n",
              "      <th>User_statuses_count</th>\n",
              "      <th>user_followers</th>\n",
              "      <th>User_location</th>\n",
              "      <th>User_verified</th>\n",
              "      <th>fav_count</th>\n",
              "      <th>rt_count</th>\n",
              "      <th>tweet_date</th>\n",
              "      <th>clean_tweet</th>\n",
              "      <th>Sentiment</th>\n",
              "    </tr>\n",
              "  </thead>\n",
              "  <tbody>\n",
              "    <tr>\n",
              "      <th>0</th>\n",
              "      <td>RT @nhsrcofficial: If you or someone in your f...</td>\n",
              "      <td>Zeenat Talpur</td>\n",
              "      <td>103272</td>\n",
              "      <td>1517</td>\n",
              "      <td></td>\n",
              "      <td>False</td>\n",
              "      <td>0</td>\n",
              "      <td>264</td>\n",
              "      <td>2021-02-20 13:01:13</td>\n",
              "      <td>RT If you or someone in your family suspects t...</td>\n",
              "      <td>Neutral</td>\n",
              "    </tr>\n",
              "    <tr>\n",
              "      <th>1</th>\n",
              "      <td>RT @anistonism: remember when the morning show...</td>\n",
              "      <td>Federico</td>\n",
              "      <td>18407</td>\n",
              "      <td>256</td>\n",
              "      <td>Italia</td>\n",
              "      <td>False</td>\n",
              "      <td>0</td>\n",
              "      <td>25</td>\n",
              "      <td>2021-02-20 13:00:37</td>\n",
              "      <td>RT remember when the morning show predicted th...</td>\n",
              "      <td>Neutral</td>\n",
              "    </tr>\n",
              "    <tr>\n",
              "      <th>2</th>\n",
              "      <td>@G2Pengu We all know that Corona Virus, Trump,...</td>\n",
              "      <td>h3nder</td>\n",
              "      <td>8007</td>\n",
              "      <td>25</td>\n",
              "      <td></td>\n",
              "      <td>False</td>\n",
              "      <td>0</td>\n",
              "      <td>0</td>\n",
              "      <td>2021-02-20 13:00:35</td>\n",
              "      <td>We all know that Corona Virus Trump Biden and ...</td>\n",
              "      <td>Neutral</td>\n",
              "    </tr>\n",
              "    <tr>\n",
              "      <th>3</th>\n",
              "      <td>@GregClinker @NHSActivistRN The needed percent...</td>\n",
              "      <td>Lars F. Jensen</td>\n",
              "      <td>25583</td>\n",
              "      <td>1074</td>\n",
              "      <td>Danmark</td>\n",
              "      <td>False</td>\n",
              "      <td>0</td>\n",
              "      <td>0</td>\n",
              "      <td>2021-02-20 13:00:25</td>\n",
              "      <td>The needed percentage depends a lot on 1 the e...</td>\n",
              "      <td>Neutral</td>\n",
              "    </tr>\n",
              "    <tr>\n",
              "      <th>4</th>\n",
              "      <td>RT @HousingITguy: Many countries already have ...</td>\n",
              "      <td>Ｔｏｎｙ Ｓｍｉｔｈ ＡＣＩＨ                     #SocialHou...</td>\n",
              "      <td>128367</td>\n",
              "      <td>17125</td>\n",
              "      <td>North West UK</td>\n",
              "      <td>False</td>\n",
              "      <td>0</td>\n",
              "      <td>3</td>\n",
              "      <td>2021-02-20 13:00:07</td>\n",
              "      <td>RT Many countries already have a successful Co...</td>\n",
              "      <td>Positive</td>\n",
              "    </tr>\n",
              "  </tbody>\n",
              "</table>\n",
              "</div>"
            ],
            "text/plain": [
              "                                              Tweets  ... Sentiment\n",
              "0  RT @nhsrcofficial: If you or someone in your f...  ...   Neutral\n",
              "1  RT @anistonism: remember when the morning show...  ...   Neutral\n",
              "2  @G2Pengu We all know that Corona Virus, Trump,...  ...   Neutral\n",
              "3  @GregClinker @NHSActivistRN The needed percent...  ...   Neutral\n",
              "4  RT @HousingITguy: Many countries already have ...  ...  Positive\n",
              "\n",
              "[5 rows x 11 columns]"
            ]
          },
          "metadata": {
            "tags": []
          },
          "execution_count": 20
        }
      ]
    },
    {
      "cell_type": "code",
      "metadata": {
        "colab": {
          "base_uri": "https://localhost:8080/"
        },
        "id": "nk-sQJxmn4G0",
        "outputId": "b04fc169-1277-4853-84c0-fd020e01978f"
      },
      "source": [
        "n = 1\r\n",
        "print(\"Original tweet:\\n\",df['Tweets'][n])\r\n",
        "print()\r\n",
        "print(\"Clean tweet:\\n\",df['clean_tweet'][n])\r\n",
        "print()\r\n",
        "print(\"Sentiment of the tweet:\\n\",df['Sentiment'][n])"
      ],
      "execution_count": null,
      "outputs": [
        {
          "output_type": "stream",
          "text": [
            "Original tweet:\n",
            " RT @anistonism: remember when the morning show predicted the corona virus? https://t.co/rKFWketVeR\n",
            "\n",
            "Clean tweet:\n",
            " RT remember when the morning show predicted the corona virus\n",
            "\n",
            "Sentiment of the tweet:\n",
            " Neutral\n"
          ],
          "name": "stdout"
        }
      ]
    },
    {
      "cell_type": "code",
      "metadata": {
        "colab": {
          "base_uri": "https://localhost:8080/"
        },
        "id": "2xMIBq2Zn-H5",
        "outputId": "bdf6d521-fd38-404d-a2d0-230b1f1b535b"
      },
      "source": [
        "n = 20\r\n",
        "print(\"Original tweet:\\n\",df['Tweets'][n])\r\n",
        "print()\r\n",
        "print(\"Clean tweet:\\n\",df['clean_tweet'][n])\r\n",
        "print()\r\n",
        "print(\"Sentiment of the tweet:\\n\",df['Sentiment'][n])"
      ],
      "execution_count": null,
      "outputs": [
        {
          "output_type": "stream",
          "text": [
            "Original tweet:\n",
            " When this corona monster virus is over and gone for good ...we will be like this. https://t.co/EZaeIgbcyW\n",
            "\n",
            "Clean tweet:\n",
            " When this corona monster virus is over and gone for good we will be like this\n",
            "\n",
            "Sentiment of the tweet:\n",
            " Positive\n"
          ],
          "name": "stdout"
        }
      ]
    },
    {
      "cell_type": "code",
      "metadata": {
        "colab": {
          "base_uri": "https://localhost:8080/"
        },
        "id": "h0MNswRuoESW",
        "outputId": "0776f60c-8792-4aec-fd6c-492f9419a69f"
      },
      "source": [
        "n = 203\r\n",
        "print(\"Original tweet:\\n\",df['Tweets'][n])\r\n",
        "print()\r\n",
        "print(\"Clean tweet:\\n\",df['clean_tweet'][n])\r\n",
        "print()\r\n",
        "print(\"Sentiment of the tweet:\\n\",df['Sentiment'][n])"
      ],
      "execution_count": null,
      "outputs": [
        {
          "output_type": "stream",
          "text": [
            "Original tweet:\n",
            " Well done! When will corona virus end in Indonesia? 😌🙃 https://t.co/dNynF10iq0\n",
            "\n",
            "Clean tweet:\n",
            " Well done When will corona virus end in Indonesia\n",
            "\n",
            "Sentiment of the tweet:\n",
            " Neutral\n"
          ],
          "name": "stdout"
        }
      ]
    },
    {
      "cell_type": "code",
      "metadata": {
        "colab": {
          "base_uri": "https://localhost:8080/"
        },
        "id": "biDahRf-oJdZ",
        "outputId": "8aede860-c3eb-4ab5-b2be-7987372ba4a7"
      },
      "source": [
        "df[df.Sentiment == 'Positive'].shape[0]"
      ],
      "execution_count": null,
      "outputs": [
        {
          "output_type": "execute_result",
          "data": {
            "text/plain": [
              "223"
            ]
          },
          "metadata": {
            "tags": []
          },
          "execution_count": 24
        }
      ]
    },
    {
      "cell_type": "code",
      "metadata": {
        "colab": {
          "base_uri": "https://localhost:8080/"
        },
        "id": "R7c_uBOsoMzv",
        "outputId": "39c86e17-afa5-4204-8e14-bfb54345a1cf"
      },
      "source": [
        "df[df.Sentiment == 'Neutral'].shape[0]"
      ],
      "execution_count": null,
      "outputs": [
        {
          "output_type": "execute_result",
          "data": {
            "text/plain": [
              "616"
            ]
          },
          "metadata": {
            "tags": []
          },
          "execution_count": 25
        }
      ]
    },
    {
      "cell_type": "code",
      "metadata": {
        "colab": {
          "base_uri": "https://localhost:8080/"
        },
        "id": "-e-j0lTXoP1g",
        "outputId": "caf28f0d-1319-476d-c99e-8b3ab0f88cd9"
      },
      "source": [
        "df[df.Sentiment == 'Negative'].shape[0]"
      ],
      "execution_count": null,
      "outputs": [
        {
          "output_type": "execute_result",
          "data": {
            "text/plain": [
              "161"
            ]
          },
          "metadata": {
            "tags": []
          },
          "execution_count": 26
        }
      ]
    },
    {
      "cell_type": "code",
      "metadata": {
        "id": "Ehg24teToTjT"
      },
      "source": [
        ""
      ],
      "execution_count": null,
      "outputs": []
    }
  ]
}