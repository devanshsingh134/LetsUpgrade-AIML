{
 "cells": [
  {
   "cell_type": "markdown",
   "metadata": {},
   "source": [
    "Q1- Write a program to copy the contents of one file to another using a for loop. (Don’t use built-in copy\n",
    "function)"
   ]
  },
  {
   "cell_type": "code",
   "execution_count": 1,
   "metadata": {},
   "outputs": [
    {
     "name": "stdout",
     "output_type": "stream",
     "text": [
      "Enter a file name which you want to copy: U.txt\n",
      "Enter a file name which you want to paste it the copied text: v.txt\n"
     ]
    }
   ],
   "source": [
    "input1=input(\"Enter a file name which you want to copy: \")\n",
    "input2=input(\"Enter a file name which you want to paste it the copied text: \")\n",
    "with open(input1, \"r\") as f:     \n",
    "    with open(input2, \"a\") as f1:\n",
    "        for line in f:\n",
    "            f1.write(line)"
   ]
  },
  {
   "cell_type": "markdown",
   "metadata": {},
   "source": [
    "Q2- Write a Python program to find maximum and minimum values in the dictionary. Do not use built-in min\n",
    "and max functions."
   ]
  },
  {
   "cell_type": "code",
   "execution_count": 2,
   "metadata": {},
   "outputs": [
    {
     "name": "stdout",
     "output_type": "stream",
     "text": [
      "The Minimum value of dictionary is 4\n",
      "The Maximum value of dictionary is 89\n"
     ]
    }
   ],
   "source": [
    "dic = {'a': 11, 'b': 14, 'c':89 , 'd': 4, 'e':69 }\n",
    "lst = []\n",
    "for i in dic.values():\n",
    "    lst.append(i)\n",
    "\n",
    "lst = sorted(lst)\n",
    "print(f'The Minimum value of dictionary is {lst[0]}')\n",
    "print(f'The Maximum value of dictionary is {lst[-1]}')"
   ]
  }
 ],
 "metadata": {
  "kernelspec": {
   "display_name": "Python 3",
   "language": "python",
   "name": "python3"
  },
  "language_info": {
   "codemirror_mode": {
    "name": "ipython",
    "version": 3
   },
   "file_extension": ".py",
   "mimetype": "text/x-python",
   "name": "python",
   "nbconvert_exporter": "python",
   "pygments_lexer": "ipython3",
   "version": "3.8.5"
  }
 },
 "nbformat": 4,
 "nbformat_minor": 4
}
