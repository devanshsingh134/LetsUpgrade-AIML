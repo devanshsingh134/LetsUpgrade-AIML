{
 "cells": [
  {
   "cell_type": "markdown",
   "metadata": {},
   "source": [
    "\n",
    "Q1-Create one array of actual values and another array of predicted values. Compare the two setswith the confusion matrix."
   ]
  },
  {
   "cell_type": "code",
   "execution_count": 1,
   "metadata": {},
   "outputs": [
    {
     "data": {
      "text/plain": [
       "array([[1, 4],\n",
       "       [3, 2]], dtype=int64)"
      ]
     },
     "execution_count": 1,
     "metadata": {},
     "output_type": "execute_result"
    }
   ],
   "source": [
    "from sklearn.metrics import confusion_matrix\n",
    "\n",
    "\n",
    "actual_values = [0,1,1,0,0,0,1,1,1,0]\n",
    "predicted_values = [1,1,0,1,0,1,1,0,0,1]\n",
    "\n",
    "confusion_matrix(actual_values, predicted_values)"
   ]
  },
  {
   "cell_type": "markdown",
   "metadata": {},
   "source": [
    "Q2- Find out the recall, precision, F1 score and confusion matrix with picture."
   ]
  },
  {
   "cell_type": "code",
   "execution_count": 2,
   "metadata": {},
   "outputs": [
    {
     "name": "stdout",
     "output_type": "stream",
     "text": [
      "recall :-  0.74\n",
      "precision :- 0.84\n",
      "F1 score :- 0.7868354430379746\n",
      "Confusion matrix :- [[42  8]\n",
      " [18 32]]\n"
     ]
    }
   ],
   "source": [
    "import numpy as np\n",
    "\n",
    "TP = 42\n",
    "TN = 32\n",
    "FP = 8\n",
    "FN = 18\n",
    "\n",
    "recall = (TP + TN)/(TP+TN+FP+FN)\n",
    "\n",
    "print(\"recall :- \",recall)\n",
    "\n",
    "precision = TP/(TP+FP)\n",
    "\n",
    "print(\"precision :-\",precision)\n",
    "\n",
    "\n",
    "f1_score = 2*(precision*recall)/(precision+recall)\n",
    "\n",
    "print(\"F1 score :-\",f1_score)\n",
    "\n",
    "Confusion_matrix = np.array([[TP,FP],[FN,TN]])\n",
    "print(\"Confusion matrix :-\",Confusion_matrix)"
   ]
  }
 ],
 "metadata": {
  "kernelspec": {
   "display_name": "Python 3",
   "language": "python",
   "name": "python3"
  },
  "language_info": {
   "codemirror_mode": {
    "name": "ipython",
    "version": 3
   },
   "file_extension": ".py",
   "mimetype": "text/x-python",
   "name": "python",
   "nbconvert_exporter": "python",
   "pygments_lexer": "ipython3",
   "version": "3.8.5"
  }
 },
 "nbformat": 4,
 "nbformat_minor": 4
}
