{
 "cells": [
  {
   "cell_type": "markdown",
   "metadata": {},
   "source": [
    "**Q1- Recreate “NB 21 map, filter, lambda.ipynb” to try different variations or perform different calculations from\n",
    "the ones that are in the NB.**\n"
   ]
  },
  {
   "cell_type": "markdown",
   "metadata": {},
   "source": [
    "**map(), filter() and reduce()** are built-in functions of Python.\n",
    "\n",
    "These functions enable the functional programming aspect of Python.\n",
    "\n",
    "In Functional Programming, the arguments passed are the only factors that decide upon the output.\n",
    "\n",
    "These functions can take any other function as a parameter and can be supplied to other functions as parameters as well.\n",
    "\n",
    "map()-\n",
    "It applies the given function to all iterables and returns a new list.\n",
    "\n",
    "SYNTAX:\n",
    "\n",
    "map(function, iterables)"
   ]
  },
  {
   "cell_type": "code",
   "execution_count": 4,
   "metadata": {},
   "outputs": [
    {
     "name": "stdout",
     "output_type": "stream",
     "text": [
      "<map object at 0x08491748>\n",
      "<class 'map'>\n",
      "[3, 5, 3, 3, 3]\n"
     ]
    }
   ],
   "source": [
    "# map(function, iterables)\n",
    "def length(a):\n",
    "    return len(a)\n",
    "x = map(length,[\"hey\",\"there\",\"how\", \"are\", \"you\"])\n",
    "print(x)\n",
    "print(type(x))\n",
    "print(list(x))"
   ]
  },
  {
   "cell_type": "code",
   "execution_count": 7,
   "metadata": {},
   "outputs": [
    {
     "name": "stdout",
     "output_type": "stream",
     "text": [
      "[1, 8, 27, 64]\n"
     ]
    }
   ],
   "source": [
    "def cube(a,b):\n",
    "    return a**b\n",
    "# your code goes here3\n",
    "print(list(map(cube, [1,2,3,4], [3,3,3,3] )))"
   ]
  },
  {
   "cell_type": "markdown",
   "metadata": {},
   "source": [
    "Lambda functions\n",
    "Everything in the world of programming requires a name, but there still there are a few ananymous mysteries. Lambda functions or Lambda expressions are one of these kind of entities that are nameless.\n",
    "\n",
    "They are the functions that do not have any name.\n",
    "\n",
    "We also call them as anonymous or nameless functions.\n",
    "\n",
    "They are generally provided as input to other functions.\n",
    "\n",
    "Lambda functions are single line functions. Therefore we have to provide the expression along with the function itself.\n",
    "\n",
    "Note: 'lambda' is not a name, it s a keyword.\n",
    "\n",
    "Use of lambda functions:\n",
    "\n",
    "1. One time use: They are used in places where we know that the function will be required just once. Therefore, lambda functions are also called as throw away functions.\n",
    "\n",
    "2. Input/Output to other functions: They are also passed as inputs or returned as outputs of other higher-order functions.\n",
    "\n",
    "3. Reduce Code size: The body of lambda functions is written in a single line.\n",
    "\n",
    "**SYNTAX:\n",
    "\n",
    "lambda arguments: expression"
   ]
  },
  {
   "cell_type": "code",
   "execution_count": 8,
   "metadata": {},
   "outputs": [
    {
     "data": {
      "text/plain": [
       "6"
      ]
     },
     "execution_count": 8,
     "metadata": {},
     "output_type": "execute_result"
    }
   ],
   "source": [
    "x = lambda a: a*2\n",
    "x(3)"
   ]
  },
  {
   "cell_type": "code",
   "execution_count": 9,
   "metadata": {},
   "outputs": [
    {
     "name": "stdout",
     "output_type": "stream",
     "text": [
      "<function xyz.<locals>.<lambda> at 0x03479460>\n",
      "0.8\n"
     ]
    }
   ],
   "source": [
    "def xyz(x):\n",
    "    return lambda y: x/y\n",
    "t = xyz(4)\n",
    "print(t)\n",
    "print(t(5))"
   ]
  },
  {
   "cell_type": "code",
   "execution_count": 11,
   "metadata": {},
   "outputs": [
    {
     "name": "stdout",
     "output_type": "stream",
     "text": [
      "[1, 0, 1, 0]\n"
     ]
    }
   ],
   "source": [
    "# Use lambda functions along with map function\n",
    "l = [1,2,3,4]\n",
    "x = map(lambda x: x%2,l)\n",
    "print(list(x))"
   ]
  },
  {
   "cell_type": "markdown",
   "metadata": {},
   "source": [
    "**filter()**\n",
    "It is used to filter the given iterables with the help of another function passed as an argument to test all the elements to be True or False.\n",
    "\n",
    "**SYNTAX:**\n",
    "\n",
    "filter(function, iterables)"
   ]
  },
  {
   "cell_type": "code",
   "execution_count": 12,
   "metadata": {},
   "outputs": [
    {
     "name": "stdout",
     "output_type": "stream",
     "text": [
      "<filter object at 0x08491EB0>\n",
      "<class 'filter'>\n",
      "[2, 4]\n"
     ]
    }
   ],
   "source": [
    "# filter(function, iterables)\n",
    "def lmn(a):\n",
    "    if a%2==0:\n",
    "        return a\n",
    "# your code goes here1.2\n",
    "x = filter( lmn, [1,2,3,4,5] )\n",
    "print(x)\n",
    "print(type(x))\n",
    "print(list(x))"
   ]
  },
  {
   "cell_type": "code",
   "execution_count": 13,
   "metadata": {},
   "outputs": [
    {
     "name": "stdout",
     "output_type": "stream",
     "text": [
      "[1, 3]\n"
     ]
    }
   ],
   "source": [
    "\n",
    "j = [1,2,3,4,5,6]\n",
    "print(list(filter( lambda x: x%2==1 ,l )))"
   ]
  },
  {
   "cell_type": "markdown",
   "metadata": {},
   "source": [
    "\n",
    "**reduce()**\n",
    "It applies some other function to a list that are passed as a parameter to it and finally return a single value.\n",
    "\n",
    "**SYNTAX:**\n",
    "\n",
    "reduce(function, iterables)"
   ]
  },
  {
   "cell_type": "code",
   "execution_count": 23,
   "metadata": {},
   "outputs": [
    {
     "name": "stdout",
     "output_type": "stream",
     "text": [
      "120\n"
     ]
    }
   ],
   "source": [
    "# reduce(function, iterables)\n",
    "from functools import reduce #must\n",
    "def mul(a,b):\n",
    "    return a*b\n",
    "\n",
    "# your code goes here1+5\n",
    "x = reduce(mul, [1,2,3,4,5])\n",
    "print(x)"
   ]
  },
  {
   "cell_type": "code",
   "execution_count": 24,
   "metadata": {},
   "outputs": [
    {
     "name": "stdout",
     "output_type": "stream",
     "text": [
      "<map object at 0x08491FA0>\n",
      "[4, 16]\n"
     ]
    }
   ],
   "source": [
    "# filter within map\n",
    "x = map(lambda x: x*x,  filter(lambda x: x%2==0, [1,2,3,4]))\n",
    "print(x)\n",
    "print(list(x))\n",
    "# print(tuple(x))\n"
   ]
  },
  {
   "cell_type": "code",
   "execution_count": 25,
   "metadata": {},
   "outputs": [
    {
     "name": "stdout",
     "output_type": "stream",
     "text": [
      "<filter object at 0x08491F40>\n",
      "[4.0, 5.0, 6.0, 7.0]\n"
     ]
    }
   ],
   "source": [
    "#map within filter\n",
    "x = filter(lambda x: x>=3,  map(lambda x: x+3., [1,2,3,4]))\n",
    "print(x)\n",
    "print(list(x))\n",
    "# print(tuple(x))"
   ]
  },
  {
   "cell_type": "code",
   "execution_count": null,
   "metadata": {},
   "outputs": [],
   "source": []
  }
 ],
 "metadata": {
  "kernelspec": {
   "display_name": "Python 3",
   "language": "python",
   "name": "python3"
  },
  "language_info": {
   "codemirror_mode": {
    "name": "ipython",
    "version": 3
   },
   "file_extension": ".py",
   "mimetype": "text/x-python",
   "name": "python",
   "nbconvert_exporter": "python",
   "pygments_lexer": "ipython3",
   "version": "3.8.5"
  }
 },
 "nbformat": 4,
 "nbformat_minor": 4
}
